{
 "cells": [
  {
   "cell_type": "code",
   "execution_count": 2,
   "id": "1f4a92c2",
   "metadata": {},
   "outputs": [],
   "source": [
    "#%matplotlib inline\n",
    "import pandas as pd\n",
    "import numpy as np\n",
    "import seaborn as sns\n",
    "from scipy import stats\n",
    "import matplotlib.pyplot as plt\n",
    "import datetime as dt\n",
    "import re\n",
    "import datetime"
   ]
  },
  {
   "cell_type": "code",
   "execution_count": 3,
   "id": "e8c4f2ed",
   "metadata": {},
   "outputs": [],
   "source": [
    "url = 'https://raw.githubusercontent.com/umaimehm/Intro_to_AI_2021/main/assignment1/Ruter_data.csv'"
   ]
  },
  {
   "cell_type": "code",
   "execution_count": 4,
   "id": "8594f4ce",
   "metadata": {
    "scrolled": false
   },
   "outputs": [
    {
     "data": {
      "text/html": [
       "<div>\n",
       "<style scoped>\n",
       "    .dataframe tbody tr th:only-of-type {\n",
       "        vertical-align: middle;\n",
       "    }\n",
       "\n",
       "    .dataframe tbody tr th {\n",
       "        vertical-align: top;\n",
       "    }\n",
       "\n",
       "    .dataframe thead th {\n",
       "        text-align: right;\n",
       "    }\n",
       "</style>\n",
       "<table border=\"1\" class=\"dataframe\">\n",
       "  <thead>\n",
       "    <tr style=\"text-align: right;\">\n",
       "      <th></th>\n",
       "      <th>TurId</th>\n",
       "      <th>Dato</th>\n",
       "      <th>Fylke</th>\n",
       "      <th>Område</th>\n",
       "      <th>Kommune</th>\n",
       "      <th>Holdeplass_Fra</th>\n",
       "      <th>Holdeplass_Til</th>\n",
       "      <th>Linjetype</th>\n",
       "      <th>Linjefylke</th>\n",
       "      <th>Linjenavn</th>\n",
       "      <th>Linjeretning</th>\n",
       "      <th>Tidspunkt_Faktisk_Ankomst_Holdeplass_Fra</th>\n",
       "      <th>Tidspunkt_Faktisk_Avgang_Holdeplass_Fra</th>\n",
       "      <th>Tidspunkt_Planlagt_Ankomst_Holdeplass_Fra</th>\n",
       "      <th>Tidspunkt_Planlagt_Avgang_Holdeplass_Fra</th>\n",
       "      <th>Kjøretøy_Kapasitet</th>\n",
       "      <th>Passasjerer_Ombord</th>\n",
       "    </tr>\n",
       "  </thead>\n",
       "  <tbody>\n",
       "    <tr>\n",
       "      <th>0</th>\n",
       "      <td>15006-2020-08-10T10:24:00+02:00</td>\n",
       "      <td>10/08/2020</td>\n",
       "      <td>Viken</td>\n",
       "      <td>Vest</td>\n",
       "      <td>Bærum</td>\n",
       "      <td>Nordliveien</td>\n",
       "      <td>Tjernsmyr</td>\n",
       "      <td>Lokal</td>\n",
       "      <td>Viken</td>\n",
       "      <td>150</td>\n",
       "      <td>0</td>\n",
       "      <td>10:53:53</td>\n",
       "      <td>10:53:59</td>\n",
       "      <td>10:53:00</td>\n",
       "      <td>10:53:00</td>\n",
       "      <td>112</td>\n",
       "      <td>5</td>\n",
       "    </tr>\n",
       "    <tr>\n",
       "      <th>1</th>\n",
       "      <td>15002-2020-08-15T12:54:00+02:00</td>\n",
       "      <td>15/08/2020</td>\n",
       "      <td>Viken</td>\n",
       "      <td>Vest</td>\n",
       "      <td>Bærum</td>\n",
       "      <td>Nadderud stadion</td>\n",
       "      <td>Bekkestua bussterminal (Plattform C)</td>\n",
       "      <td>Lokal</td>\n",
       "      <td>Viken</td>\n",
       "      <td>150</td>\n",
       "      <td>0</td>\n",
       "      <td>13:12:20</td>\n",
       "      <td>13:12:26</td>\n",
       "      <td>13:12:00</td>\n",
       "      <td>13:12:00</td>\n",
       "      <td>112</td>\n",
       "      <td>5</td>\n",
       "    </tr>\n",
       "    <tr>\n",
       "      <th>2</th>\n",
       "      <td>15004-2020-08-03T09:54:00+02:00</td>\n",
       "      <td>03/08/2020</td>\n",
       "      <td>Viken</td>\n",
       "      <td>Vest</td>\n",
       "      <td>Bærum</td>\n",
       "      <td>Ringstabekkveien</td>\n",
       "      <td>Skallum</td>\n",
       "      <td>Lokal</td>\n",
       "      <td>Viken</td>\n",
       "      <td>150</td>\n",
       "      <td>0</td>\n",
       "      <td>10:18:56</td>\n",
       "      <td>10:19:21</td>\n",
       "      <td>10:19:00</td>\n",
       "      <td>10:19:00</td>\n",
       "      <td>112</td>\n",
       "      <td>6</td>\n",
       "    </tr>\n",
       "    <tr>\n",
       "      <th>3</th>\n",
       "      <td>15003-2020-07-27T13:00:00+02:00</td>\n",
       "      <td>27/07/2020</td>\n",
       "      <td>Viken</td>\n",
       "      <td>Vest</td>\n",
       "      <td>Bærum</td>\n",
       "      <td>Gruvemyra</td>\n",
       "      <td>Gullhaug</td>\n",
       "      <td>Lokal</td>\n",
       "      <td>Viken</td>\n",
       "      <td>150</td>\n",
       "      <td>1</td>\n",
       "      <td>13:52:04</td>\n",
       "      <td>13:52:26</td>\n",
       "      <td>13:51:00</td>\n",
       "      <td>13:51:00</td>\n",
       "      <td>112</td>\n",
       "      <td>10</td>\n",
       "    </tr>\n",
       "    <tr>\n",
       "      <th>4</th>\n",
       "      <td>15002-2020-08-27T07:15:00+02:00</td>\n",
       "      <td>27/08/2020</td>\n",
       "      <td>Viken</td>\n",
       "      <td>Vest</td>\n",
       "      <td>Bærum</td>\n",
       "      <td>Lysaker stasjon (Plattform A)</td>\n",
       "      <td>Tjernsmyr</td>\n",
       "      <td>Lokal</td>\n",
       "      <td>Viken</td>\n",
       "      <td>150</td>\n",
       "      <td>1</td>\n",
       "      <td>07:34:13</td>\n",
       "      <td>07:34:53</td>\n",
       "      <td>07:33:00</td>\n",
       "      <td>07:33:00</td>\n",
       "      <td>112</td>\n",
       "      <td>10</td>\n",
       "    </tr>\n",
       "  </tbody>\n",
       "</table>\n",
       "</div>"
      ],
      "text/plain": [
       "                             TurId        Dato  Fylke Område Kommune  \\\n",
       "0  15006-2020-08-10T10:24:00+02:00  10/08/2020  Viken   Vest   Bærum   \n",
       "1  15002-2020-08-15T12:54:00+02:00  15/08/2020  Viken   Vest   Bærum   \n",
       "2  15004-2020-08-03T09:54:00+02:00  03/08/2020  Viken   Vest   Bærum   \n",
       "3  15003-2020-07-27T13:00:00+02:00  27/07/2020  Viken   Vest   Bærum   \n",
       "4  15002-2020-08-27T07:15:00+02:00  27/08/2020  Viken   Vest   Bærum   \n",
       "\n",
       "                  Holdeplass_Fra                        Holdeplass_Til  \\\n",
       "0                    Nordliveien                             Tjernsmyr   \n",
       "1               Nadderud stadion  Bekkestua bussterminal (Plattform C)   \n",
       "2               Ringstabekkveien                               Skallum   \n",
       "3                      Gruvemyra                              Gullhaug   \n",
       "4  Lysaker stasjon (Plattform A)                             Tjernsmyr   \n",
       "\n",
       "  Linjetype Linjefylke Linjenavn  Linjeretning  \\\n",
       "0     Lokal      Viken       150             0   \n",
       "1     Lokal      Viken       150             0   \n",
       "2     Lokal      Viken       150             0   \n",
       "3     Lokal      Viken       150             1   \n",
       "4     Lokal      Viken       150             1   \n",
       "\n",
       "  Tidspunkt_Faktisk_Ankomst_Holdeplass_Fra  \\\n",
       "0                                 10:53:53   \n",
       "1                                 13:12:20   \n",
       "2                                 10:18:56   \n",
       "3                                 13:52:04   \n",
       "4                                 07:34:13   \n",
       "\n",
       "  Tidspunkt_Faktisk_Avgang_Holdeplass_Fra  \\\n",
       "0                                10:53:59   \n",
       "1                                13:12:26   \n",
       "2                                10:19:21   \n",
       "3                                13:52:26   \n",
       "4                                07:34:53   \n",
       "\n",
       "  Tidspunkt_Planlagt_Ankomst_Holdeplass_Fra  \\\n",
       "0                                  10:53:00   \n",
       "1                                  13:12:00   \n",
       "2                                  10:19:00   \n",
       "3                                  13:51:00   \n",
       "4                                  07:33:00   \n",
       "\n",
       "  Tidspunkt_Planlagt_Avgang_Holdeplass_Fra  Kjøretøy_Kapasitet  \\\n",
       "0                                 10:53:00                 112   \n",
       "1                                 13:12:00                 112   \n",
       "2                                 10:19:00                 112   \n",
       "3                                 13:51:00                 112   \n",
       "4                                 07:33:00                 112   \n",
       "\n",
       "   Passasjerer_Ombord  \n",
       "0                   5  \n",
       "1                   5  \n",
       "2                   6  \n",
       "3                  10  \n",
       "4                  10  "
      ]
     },
     "execution_count": 4,
     "metadata": {},
     "output_type": "execute_result"
    }
   ],
   "source": [
    "df = pd.read_csv(url, sep=';')\n",
    "\n",
    "df.head()"
   ]
  },
  {
   "cell_type": "code",
   "execution_count": 5,
   "id": "dde69b9f",
   "metadata": {},
   "outputs": [],
   "source": [
    "#Task 1.1 Identify 5 unique features from this data set.\n",
    "#5 unike egenskaper_Fra dataene:\n",
    "#Tid_Forsiket_Avgang, \n",
    "#Tid_forsinket_Ankomst, \n",
    "#Restkappasitet_Passjasjerer, \n",
    "#Tur_Whit_faulti_Passasjer_sensor, \n",
    "# Uke_Dag,"
   ]
  },
  {
   "cell_type": "code",
   "execution_count": 6,
   "id": "b2d6db2e",
   "metadata": {},
   "outputs": [],
   "source": [
    "#1.2 Apply feature engineering on them in Python."
   ]
  },
  {
   "cell_type": "code",
   "execution_count": 7,
   "id": "2617568a",
   "metadata": {},
   "outputs": [],
   "source": [
    "#convert object to datetime to calculate time\n",
    "df['Tidspunkt_Faktisk_Ankomst_Holdeplass_Fra'] = pd.to_timedelta(df['Tidspunkt_Faktisk_Ankomst_Holdeplass_Fra'], errors='coerce')\n",
    "df['Tidspunkt_Faktisk_Avgang_Holdeplass_Fra'] = pd.to_timedelta(df['Tidspunkt_Faktisk_Avgang_Holdeplass_Fra'], errors='coerce')\n",
    "df['Tidspunkt_Planlagt_Ankomst_Holdeplass_Fra'] = pd.to_timedelta(df['Tidspunkt_Planlagt_Ankomst_Holdeplass_Fra'], errors='coerce')\n",
    "df['Tidspunkt_Planlagt_Avgang_Holdeplass_Fra'] = pd.to_timedelta(df['Tidspunkt_Planlagt_Avgang_Holdeplass_Fra'], errors='coerce')\n"
   ]
  },
  {
   "cell_type": "code",
   "execution_count": 8,
   "id": "6917e2fd",
   "metadata": {},
   "outputs": [
    {
     "data": {
      "text/html": [
       "<div>\n",
       "<style scoped>\n",
       "    .dataframe tbody tr th:only-of-type {\n",
       "        vertical-align: middle;\n",
       "    }\n",
       "\n",
       "    .dataframe tbody tr th {\n",
       "        vertical-align: top;\n",
       "    }\n",
       "\n",
       "    .dataframe thead th {\n",
       "        text-align: right;\n",
       "    }\n",
       "</style>\n",
       "<table border=\"1\" class=\"dataframe\">\n",
       "  <thead>\n",
       "    <tr style=\"text-align: right;\">\n",
       "      <th></th>\n",
       "      <th>TurId</th>\n",
       "      <th>Dato</th>\n",
       "      <th>Fylke</th>\n",
       "      <th>Område</th>\n",
       "      <th>Kommune</th>\n",
       "      <th>Holdeplass_Fra</th>\n",
       "      <th>Holdeplass_Til</th>\n",
       "      <th>Linjetype</th>\n",
       "      <th>Linjefylke</th>\n",
       "      <th>Linjenavn</th>\n",
       "      <th>Linjeretning</th>\n",
       "      <th>Tidspunkt_Faktisk_Ankomst_Holdeplass_Fra</th>\n",
       "      <th>Tidspunkt_Faktisk_Avgang_Holdeplass_Fra</th>\n",
       "      <th>Tidspunkt_Planlagt_Ankomst_Holdeplass_Fra</th>\n",
       "      <th>Tidspunkt_Planlagt_Avgang_Holdeplass_Fra</th>\n",
       "      <th>Kjøretøy_Kapasitet</th>\n",
       "      <th>Passasjerer_Ombord</th>\n",
       "      <th>Passasjerer_Ombord_Censor_defekt</th>\n",
       "    </tr>\n",
       "  </thead>\n",
       "  <tbody>\n",
       "    <tr>\n",
       "      <th>0</th>\n",
       "      <td>15006-2020-08-10T10:24:00+02:00</td>\n",
       "      <td>10/08/2020</td>\n",
       "      <td>Viken</td>\n",
       "      <td>Vest</td>\n",
       "      <td>Bærum</td>\n",
       "      <td>Nordliveien</td>\n",
       "      <td>Tjernsmyr</td>\n",
       "      <td>Lokal</td>\n",
       "      <td>Viken</td>\n",
       "      <td>150</td>\n",
       "      <td>0</td>\n",
       "      <td>0 days 10:53:53</td>\n",
       "      <td>0 days 10:53:59</td>\n",
       "      <td>0 days 10:53:00</td>\n",
       "      <td>0 days 10:53:00</td>\n",
       "      <td>112</td>\n",
       "      <td>5</td>\n",
       "      <td>false</td>\n",
       "    </tr>\n",
       "    <tr>\n",
       "      <th>1</th>\n",
       "      <td>15002-2020-08-15T12:54:00+02:00</td>\n",
       "      <td>15/08/2020</td>\n",
       "      <td>Viken</td>\n",
       "      <td>Vest</td>\n",
       "      <td>Bærum</td>\n",
       "      <td>Nadderud stadion</td>\n",
       "      <td>Bekkestua bussterminal (Plattform C)</td>\n",
       "      <td>Lokal</td>\n",
       "      <td>Viken</td>\n",
       "      <td>150</td>\n",
       "      <td>0</td>\n",
       "      <td>0 days 13:12:20</td>\n",
       "      <td>0 days 13:12:26</td>\n",
       "      <td>0 days 13:12:00</td>\n",
       "      <td>0 days 13:12:00</td>\n",
       "      <td>112</td>\n",
       "      <td>5</td>\n",
       "      <td>false</td>\n",
       "    </tr>\n",
       "    <tr>\n",
       "      <th>2</th>\n",
       "      <td>15004-2020-08-03T09:54:00+02:00</td>\n",
       "      <td>03/08/2020</td>\n",
       "      <td>Viken</td>\n",
       "      <td>Vest</td>\n",
       "      <td>Bærum</td>\n",
       "      <td>Ringstabekkveien</td>\n",
       "      <td>Skallum</td>\n",
       "      <td>Lokal</td>\n",
       "      <td>Viken</td>\n",
       "      <td>150</td>\n",
       "      <td>0</td>\n",
       "      <td>0 days 10:18:56</td>\n",
       "      <td>0 days 10:19:21</td>\n",
       "      <td>0 days 10:19:00</td>\n",
       "      <td>0 days 10:19:00</td>\n",
       "      <td>112</td>\n",
       "      <td>6</td>\n",
       "      <td>false</td>\n",
       "    </tr>\n",
       "    <tr>\n",
       "      <th>3</th>\n",
       "      <td>15003-2020-07-27T13:00:00+02:00</td>\n",
       "      <td>27/07/2020</td>\n",
       "      <td>Viken</td>\n",
       "      <td>Vest</td>\n",
       "      <td>Bærum</td>\n",
       "      <td>Gruvemyra</td>\n",
       "      <td>Gullhaug</td>\n",
       "      <td>Lokal</td>\n",
       "      <td>Viken</td>\n",
       "      <td>150</td>\n",
       "      <td>1</td>\n",
       "      <td>0 days 13:52:04</td>\n",
       "      <td>0 days 13:52:26</td>\n",
       "      <td>0 days 13:51:00</td>\n",
       "      <td>0 days 13:51:00</td>\n",
       "      <td>112</td>\n",
       "      <td>10</td>\n",
       "      <td>false</td>\n",
       "    </tr>\n",
       "    <tr>\n",
       "      <th>4</th>\n",
       "      <td>15002-2020-08-27T07:15:00+02:00</td>\n",
       "      <td>27/08/2020</td>\n",
       "      <td>Viken</td>\n",
       "      <td>Vest</td>\n",
       "      <td>Bærum</td>\n",
       "      <td>Lysaker stasjon (Plattform A)</td>\n",
       "      <td>Tjernsmyr</td>\n",
       "      <td>Lokal</td>\n",
       "      <td>Viken</td>\n",
       "      <td>150</td>\n",
       "      <td>1</td>\n",
       "      <td>0 days 07:34:13</td>\n",
       "      <td>0 days 07:34:53</td>\n",
       "      <td>0 days 07:33:00</td>\n",
       "      <td>0 days 07:33:00</td>\n",
       "      <td>112</td>\n",
       "      <td>10</td>\n",
       "      <td>false</td>\n",
       "    </tr>\n",
       "  </tbody>\n",
       "</table>\n",
       "</div>"
      ],
      "text/plain": [
       "                             TurId        Dato  Fylke Område Kommune  \\\n",
       "0  15006-2020-08-10T10:24:00+02:00  10/08/2020  Viken   Vest   Bærum   \n",
       "1  15002-2020-08-15T12:54:00+02:00  15/08/2020  Viken   Vest   Bærum   \n",
       "2  15004-2020-08-03T09:54:00+02:00  03/08/2020  Viken   Vest   Bærum   \n",
       "3  15003-2020-07-27T13:00:00+02:00  27/07/2020  Viken   Vest   Bærum   \n",
       "4  15002-2020-08-27T07:15:00+02:00  27/08/2020  Viken   Vest   Bærum   \n",
       "\n",
       "                  Holdeplass_Fra                        Holdeplass_Til  \\\n",
       "0                    Nordliveien                             Tjernsmyr   \n",
       "1               Nadderud stadion  Bekkestua bussterminal (Plattform C)   \n",
       "2               Ringstabekkveien                               Skallum   \n",
       "3                      Gruvemyra                              Gullhaug   \n",
       "4  Lysaker stasjon (Plattform A)                             Tjernsmyr   \n",
       "\n",
       "  Linjetype Linjefylke Linjenavn  Linjeretning  \\\n",
       "0     Lokal      Viken       150             0   \n",
       "1     Lokal      Viken       150             0   \n",
       "2     Lokal      Viken       150             0   \n",
       "3     Lokal      Viken       150             1   \n",
       "4     Lokal      Viken       150             1   \n",
       "\n",
       "  Tidspunkt_Faktisk_Ankomst_Holdeplass_Fra  \\\n",
       "0                          0 days 10:53:53   \n",
       "1                          0 days 13:12:20   \n",
       "2                          0 days 10:18:56   \n",
       "3                          0 days 13:52:04   \n",
       "4                          0 days 07:34:13   \n",
       "\n",
       "  Tidspunkt_Faktisk_Avgang_Holdeplass_Fra  \\\n",
       "0                         0 days 10:53:59   \n",
       "1                         0 days 13:12:26   \n",
       "2                         0 days 10:19:21   \n",
       "3                         0 days 13:52:26   \n",
       "4                         0 days 07:34:53   \n",
       "\n",
       "  Tidspunkt_Planlagt_Ankomst_Holdeplass_Fra  \\\n",
       "0                           0 days 10:53:00   \n",
       "1                           0 days 13:12:00   \n",
       "2                           0 days 10:19:00   \n",
       "3                           0 days 13:51:00   \n",
       "4                           0 days 07:33:00   \n",
       "\n",
       "  Tidspunkt_Planlagt_Avgang_Holdeplass_Fra  Kjøretøy_Kapasitet  \\\n",
       "0                          0 days 10:53:00                 112   \n",
       "1                          0 days 13:12:00                 112   \n",
       "2                          0 days 10:19:00                 112   \n",
       "3                          0 days 13:51:00                 112   \n",
       "4                          0 days 07:33:00                 112   \n",
       "\n",
       "   Passasjerer_Ombord Passasjerer_Ombord_Censor_defekt  \n",
       "0                   5                            false  \n",
       "1                   5                            false  \n",
       "2                   6                            false  \n",
       "3                  10                            false  \n",
       "4                  10                            false  "
      ]
     },
     "execution_count": 8,
     "metadata": {},
     "output_type": "execute_result"
    }
   ],
   "source": [
    "# oppretter en colone med false / true verdier hvor pasasjer teller er negative. Antar at negativ verdi = feil på sensor\n",
    "df['Passasjerer_Ombord_Censor_defekt'] = np.where(df['Passasjerer_Ombord'] > 0, \"false\", \"true\")\n",
    "#df[\"Passasjerer_Ombord_Censor_defekt\"] = df.Passasjerer_Ombord.isnull()\n",
    "df.head()"
   ]
  },
  {
   "cell_type": "code",
   "execution_count": 9,
   "id": "561353dc",
   "metadata": {},
   "outputs": [],
   "source": [
    "# oppretter Colomn Restkappasitet_Passjasjerer\n",
    "df['Restkappasitet_Passjasjerer'] = df[\"Kjøretøy_Kapasitet\"] - df[\"Passasjerer_Ombord\"]\n",
    "#Oppretter Colomn tid forsinket avgang fra holdeplass\n",
    "df['Tid_Forsiket_Avgang'] = df[\"Tidspunkt_Faktisk_Avgang_Holdeplass_Fra\"] - df[\"Tidspunkt_Planlagt_Avgang_Holdeplass_Fra\"]\n",
    "#oppretter Colomn Tid_forsinket_Ankomst\n",
    "df['Tid_forsinket_Ankomst'] = df[\"Tidspunkt_Faktisk_Ankomst_Holdeplass_Fra\"] - df[\"Tidspunkt_Planlagt_Ankomst_Holdeplass_Fra\"]\n",
    "# oppretter Colomn Restkappasitet_Passjasjerer\n",
    "#df['Restkappasitet_Passjasjerer'] = df[\"Kjøretøy_Kapasitet\"] - df[\"Passasjerer_Ombord\"]\n"
   ]
  },
  {
   "cell_type": "code",
   "execution_count": 10,
   "id": "2e4e6749",
   "metadata": {},
   "outputs": [],
   "source": [
    "#convert timedelta to seconds stores as float\n",
    "df[\"Forsinke_Ankomst_sec\"]=df['Tid_forsinket_Ankomst'].dt.total_seconds()\n",
    "#convert timedelta to seconds stores as float\n",
    "df[\"Forsinke_Avgang_sec\"]=df['Tid_Forsiket_Avgang'].dt.total_seconds()"
   ]
  },
  {
   "cell_type": "code",
   "execution_count": 11,
   "id": "3a0fcda5",
   "metadata": {},
   "outputs": [],
   "source": [
    "# Konverterer Dato til datetime og Tar Ukedag ut av Datoen \n",
    "#df['Dato']\n",
    "df['Dato'] = pd.to_datetime( df['Dato'])\n",
    "df['Ukedag'] = df['Dato'].dt.day_name()"
   ]
  },
  {
   "cell_type": "code",
   "execution_count": 12,
   "id": "d3d15f86",
   "metadata": {},
   "outputs": [
    {
     "data": {
      "text/html": [
       "<div>\n",
       "<style scoped>\n",
       "    .dataframe tbody tr th:only-of-type {\n",
       "        vertical-align: middle;\n",
       "    }\n",
       "\n",
       "    .dataframe tbody tr th {\n",
       "        vertical-align: top;\n",
       "    }\n",
       "\n",
       "    .dataframe thead th {\n",
       "        text-align: right;\n",
       "    }\n",
       "</style>\n",
       "<table border=\"1\" class=\"dataframe\">\n",
       "  <thead>\n",
       "    <tr style=\"text-align: right;\">\n",
       "      <th></th>\n",
       "      <th>TurId</th>\n",
       "      <th>Dato</th>\n",
       "      <th>Fylke</th>\n",
       "      <th>Område</th>\n",
       "      <th>Kommune</th>\n",
       "      <th>Holdeplass_Fra</th>\n",
       "      <th>Holdeplass_Til</th>\n",
       "      <th>Linjetype</th>\n",
       "      <th>Linjefylke</th>\n",
       "      <th>Linjenavn</th>\n",
       "      <th>...</th>\n",
       "      <th>Tidspunkt_Planlagt_Avgang_Holdeplass_Fra</th>\n",
       "      <th>Kjøretøy_Kapasitet</th>\n",
       "      <th>Passasjerer_Ombord</th>\n",
       "      <th>Passasjerer_Ombord_Censor_defekt</th>\n",
       "      <th>Restkappasitet_Passjasjerer</th>\n",
       "      <th>Tid_Forsiket_Avgang</th>\n",
       "      <th>Tid_forsinket_Ankomst</th>\n",
       "      <th>Forsinke_Ankomst_sec</th>\n",
       "      <th>Forsinke_Avgang_sec</th>\n",
       "      <th>Ukedag</th>\n",
       "    </tr>\n",
       "  </thead>\n",
       "  <tbody>\n",
       "    <tr>\n",
       "      <th>0</th>\n",
       "      <td>15006-2020-08-10T10:24:00+02:00</td>\n",
       "      <td>2020-10-08</td>\n",
       "      <td>Viken</td>\n",
       "      <td>Vest</td>\n",
       "      <td>Bærum</td>\n",
       "      <td>Nordliveien</td>\n",
       "      <td>Tjernsmyr</td>\n",
       "      <td>Lokal</td>\n",
       "      <td>Viken</td>\n",
       "      <td>150</td>\n",
       "      <td>...</td>\n",
       "      <td>0 days 10:53:00</td>\n",
       "      <td>112</td>\n",
       "      <td>5</td>\n",
       "      <td>false</td>\n",
       "      <td>107</td>\n",
       "      <td>0 days 00:00:59</td>\n",
       "      <td>0 days 00:00:53</td>\n",
       "      <td>53.0</td>\n",
       "      <td>59.0</td>\n",
       "      <td>Thursday</td>\n",
       "    </tr>\n",
       "    <tr>\n",
       "      <th>1</th>\n",
       "      <td>15002-2020-08-15T12:54:00+02:00</td>\n",
       "      <td>2020-08-15</td>\n",
       "      <td>Viken</td>\n",
       "      <td>Vest</td>\n",
       "      <td>Bærum</td>\n",
       "      <td>Nadderud stadion</td>\n",
       "      <td>Bekkestua bussterminal (Plattform C)</td>\n",
       "      <td>Lokal</td>\n",
       "      <td>Viken</td>\n",
       "      <td>150</td>\n",
       "      <td>...</td>\n",
       "      <td>0 days 13:12:00</td>\n",
       "      <td>112</td>\n",
       "      <td>5</td>\n",
       "      <td>false</td>\n",
       "      <td>107</td>\n",
       "      <td>0 days 00:00:26</td>\n",
       "      <td>0 days 00:00:20</td>\n",
       "      <td>20.0</td>\n",
       "      <td>26.0</td>\n",
       "      <td>Saturday</td>\n",
       "    </tr>\n",
       "    <tr>\n",
       "      <th>2</th>\n",
       "      <td>15004-2020-08-03T09:54:00+02:00</td>\n",
       "      <td>2020-03-08</td>\n",
       "      <td>Viken</td>\n",
       "      <td>Vest</td>\n",
       "      <td>Bærum</td>\n",
       "      <td>Ringstabekkveien</td>\n",
       "      <td>Skallum</td>\n",
       "      <td>Lokal</td>\n",
       "      <td>Viken</td>\n",
       "      <td>150</td>\n",
       "      <td>...</td>\n",
       "      <td>0 days 10:19:00</td>\n",
       "      <td>112</td>\n",
       "      <td>6</td>\n",
       "      <td>false</td>\n",
       "      <td>106</td>\n",
       "      <td>0 days 00:00:21</td>\n",
       "      <td>-1 days +23:59:56</td>\n",
       "      <td>-4.0</td>\n",
       "      <td>21.0</td>\n",
       "      <td>Sunday</td>\n",
       "    </tr>\n",
       "    <tr>\n",
       "      <th>3</th>\n",
       "      <td>15003-2020-07-27T13:00:00+02:00</td>\n",
       "      <td>2020-07-27</td>\n",
       "      <td>Viken</td>\n",
       "      <td>Vest</td>\n",
       "      <td>Bærum</td>\n",
       "      <td>Gruvemyra</td>\n",
       "      <td>Gullhaug</td>\n",
       "      <td>Lokal</td>\n",
       "      <td>Viken</td>\n",
       "      <td>150</td>\n",
       "      <td>...</td>\n",
       "      <td>0 days 13:51:00</td>\n",
       "      <td>112</td>\n",
       "      <td>10</td>\n",
       "      <td>false</td>\n",
       "      <td>102</td>\n",
       "      <td>0 days 00:01:26</td>\n",
       "      <td>0 days 00:01:04</td>\n",
       "      <td>64.0</td>\n",
       "      <td>86.0</td>\n",
       "      <td>Monday</td>\n",
       "    </tr>\n",
       "    <tr>\n",
       "      <th>4</th>\n",
       "      <td>15002-2020-08-27T07:15:00+02:00</td>\n",
       "      <td>2020-08-27</td>\n",
       "      <td>Viken</td>\n",
       "      <td>Vest</td>\n",
       "      <td>Bærum</td>\n",
       "      <td>Lysaker stasjon (Plattform A)</td>\n",
       "      <td>Tjernsmyr</td>\n",
       "      <td>Lokal</td>\n",
       "      <td>Viken</td>\n",
       "      <td>150</td>\n",
       "      <td>...</td>\n",
       "      <td>0 days 07:33:00</td>\n",
       "      <td>112</td>\n",
       "      <td>10</td>\n",
       "      <td>false</td>\n",
       "      <td>102</td>\n",
       "      <td>0 days 00:01:53</td>\n",
       "      <td>0 days 00:01:13</td>\n",
       "      <td>73.0</td>\n",
       "      <td>113.0</td>\n",
       "      <td>Thursday</td>\n",
       "    </tr>\n",
       "  </tbody>\n",
       "</table>\n",
       "<p>5 rows × 24 columns</p>\n",
       "</div>"
      ],
      "text/plain": [
       "                             TurId       Dato  Fylke Område Kommune  \\\n",
       "0  15006-2020-08-10T10:24:00+02:00 2020-10-08  Viken   Vest   Bærum   \n",
       "1  15002-2020-08-15T12:54:00+02:00 2020-08-15  Viken   Vest   Bærum   \n",
       "2  15004-2020-08-03T09:54:00+02:00 2020-03-08  Viken   Vest   Bærum   \n",
       "3  15003-2020-07-27T13:00:00+02:00 2020-07-27  Viken   Vest   Bærum   \n",
       "4  15002-2020-08-27T07:15:00+02:00 2020-08-27  Viken   Vest   Bærum   \n",
       "\n",
       "                  Holdeplass_Fra                        Holdeplass_Til  \\\n",
       "0                    Nordliveien                             Tjernsmyr   \n",
       "1               Nadderud stadion  Bekkestua bussterminal (Plattform C)   \n",
       "2               Ringstabekkveien                               Skallum   \n",
       "3                      Gruvemyra                              Gullhaug   \n",
       "4  Lysaker stasjon (Plattform A)                             Tjernsmyr   \n",
       "\n",
       "  Linjetype Linjefylke Linjenavn  ...  \\\n",
       "0     Lokal      Viken       150  ...   \n",
       "1     Lokal      Viken       150  ...   \n",
       "2     Lokal      Viken       150  ...   \n",
       "3     Lokal      Viken       150  ...   \n",
       "4     Lokal      Viken       150  ...   \n",
       "\n",
       "   Tidspunkt_Planlagt_Avgang_Holdeplass_Fra Kjøretøy_Kapasitet  \\\n",
       "0                           0 days 10:53:00                112   \n",
       "1                           0 days 13:12:00                112   \n",
       "2                           0 days 10:19:00                112   \n",
       "3                           0 days 13:51:00                112   \n",
       "4                           0 days 07:33:00                112   \n",
       "\n",
       "  Passasjerer_Ombord Passasjerer_Ombord_Censor_defekt  \\\n",
       "0                  5                            false   \n",
       "1                  5                            false   \n",
       "2                  6                            false   \n",
       "3                 10                            false   \n",
       "4                 10                            false   \n",
       "\n",
       "  Restkappasitet_Passjasjerer  Tid_Forsiket_Avgang  Tid_forsinket_Ankomst  \\\n",
       "0                         107      0 days 00:00:59        0 days 00:00:53   \n",
       "1                         107      0 days 00:00:26        0 days 00:00:20   \n",
       "2                         106      0 days 00:00:21      -1 days +23:59:56   \n",
       "3                         102      0 days 00:01:26        0 days 00:01:04   \n",
       "4                         102      0 days 00:01:53        0 days 00:01:13   \n",
       "\n",
       "  Forsinke_Ankomst_sec  Forsinke_Avgang_sec    Ukedag  \n",
       "0                 53.0                 59.0  Thursday  \n",
       "1                 20.0                 26.0  Saturday  \n",
       "2                 -4.0                 21.0    Sunday  \n",
       "3                 64.0                 86.0    Monday  \n",
       "4                 73.0                113.0  Thursday  \n",
       "\n",
       "[5 rows x 24 columns]"
      ]
     },
     "execution_count": 12,
     "metadata": {},
     "output_type": "execute_result"
    }
   ],
   "source": [
    "df.head()\n",
    "#ser at noen av verdiene for Tid_Forsiket_Avgang & Tid_forsinket_Ankomst blir negative forde de går over 24 timer.\n",
    "#Velger å fikkse dette med for loupen fra lab3 oppgave 3"
   ]
  },
  {
   "cell_type": "code",
   "execution_count": null,
   "id": "dfe9357d",
   "metadata": {},
   "outputs": [],
   "source": []
  },
  {
   "cell_type": "code",
   "execution_count": 13,
   "id": "d53931a1",
   "metadata": {},
   "outputs": [],
   "source": [
    "#for loupen fra lab3 oppgave 3\n",
    "#For every row in df\n",
    "for index, row in df.iterrows():\n",
    "    #if air_time is negative\n",
    "    if (row['Tid_Forsiket_Avgang'].days < 0):\n",
    "        #Find the row with df.loc                      Take 24 hrs, - air_time + negative days (could be replaced with 1)\n",
    "        df.loc[index, 'Tid_Forsiket_Avgang'] = datetime.timedelta(hours=24)-(row['Tid_Forsiket_Avgang']+ datetime.timedelta(abs(row['Tid_Forsiket_Avgang'].days)))"
   ]
  },
  {
   "cell_type": "code",
   "execution_count": 14,
   "id": "aa729893",
   "metadata": {},
   "outputs": [],
   "source": [
    "#for loupen fra lab3 oppgave 3\n",
    "#For every row in df\n",
    "for index, row in df.iterrows():\n",
    "    #if air_time is negative\n",
    "    if (row['Tid_forsinket_Ankomst'].days < 0):\n",
    "        #Find the row with df.loc                      Take 24 hrs, - air_time + negative days (could be replaced with 1)\n",
    "        df.loc[index, 'Tid_forsinket_Ankomst'] = datetime.timedelta(hours=24)-(row['Tid_forsinket_Ankomst']+ datetime.timedelta(abs(row['Tid_forsinket_Ankomst'].days)))"
   ]
  },
  {
   "cell_type": "code",
   "execution_count": 15,
   "id": "aef04e9d",
   "metadata": {},
   "outputs": [],
   "source": [
    "#plot do not suport timedelta so\n",
    "#convert timedelta to seconds and stores as float\n",
    "df[\"Forsinke_Ankomst_sec\"]=df['Tid_forsinket_Ankomst'].dt.total_seconds()\n",
    "#convert timedelta to seconds stores as float\n",
    "df[\"Forsinke_Avgang_sec\"]=df['Tid_Forsiket_Avgang'].dt.total_seconds()"
   ]
  },
  {
   "cell_type": "code",
   "execution_count": 16,
   "id": "9bec3afa",
   "metadata": {},
   "outputs": [
    {
     "data": {
      "text/html": [
       "<div>\n",
       "<style scoped>\n",
       "    .dataframe tbody tr th:only-of-type {\n",
       "        vertical-align: middle;\n",
       "    }\n",
       "\n",
       "    .dataframe tbody tr th {\n",
       "        vertical-align: top;\n",
       "    }\n",
       "\n",
       "    .dataframe thead th {\n",
       "        text-align: right;\n",
       "    }\n",
       "</style>\n",
       "<table border=\"1\" class=\"dataframe\">\n",
       "  <thead>\n",
       "    <tr style=\"text-align: right;\">\n",
       "      <th></th>\n",
       "      <th>TurId</th>\n",
       "      <th>Dato</th>\n",
       "      <th>Fylke</th>\n",
       "      <th>Område</th>\n",
       "      <th>Kommune</th>\n",
       "      <th>Holdeplass_Fra</th>\n",
       "      <th>Holdeplass_Til</th>\n",
       "      <th>Linjetype</th>\n",
       "      <th>Linjefylke</th>\n",
       "      <th>Linjenavn</th>\n",
       "      <th>...</th>\n",
       "      <th>Tidspunkt_Planlagt_Avgang_Holdeplass_Fra</th>\n",
       "      <th>Kjøretøy_Kapasitet</th>\n",
       "      <th>Passasjerer_Ombord</th>\n",
       "      <th>Passasjerer_Ombord_Censor_defekt</th>\n",
       "      <th>Restkappasitet_Passjasjerer</th>\n",
       "      <th>Tid_Forsiket_Avgang</th>\n",
       "      <th>Tid_forsinket_Ankomst</th>\n",
       "      <th>Forsinke_Ankomst_sec</th>\n",
       "      <th>Forsinke_Avgang_sec</th>\n",
       "      <th>Ukedag</th>\n",
       "    </tr>\n",
       "  </thead>\n",
       "  <tbody>\n",
       "    <tr>\n",
       "      <th>0</th>\n",
       "      <td>15006-2020-08-10T10:24:00+02:00</td>\n",
       "      <td>2020-10-08</td>\n",
       "      <td>Viken</td>\n",
       "      <td>Vest</td>\n",
       "      <td>Bærum</td>\n",
       "      <td>Nordliveien</td>\n",
       "      <td>Tjernsmyr</td>\n",
       "      <td>Lokal</td>\n",
       "      <td>Viken</td>\n",
       "      <td>150</td>\n",
       "      <td>...</td>\n",
       "      <td>0 days 10:53:00</td>\n",
       "      <td>112</td>\n",
       "      <td>5</td>\n",
       "      <td>false</td>\n",
       "      <td>107</td>\n",
       "      <td>0 days 00:00:59</td>\n",
       "      <td>0 days 00:00:53</td>\n",
       "      <td>53.0</td>\n",
       "      <td>59.0</td>\n",
       "      <td>Thursday</td>\n",
       "    </tr>\n",
       "    <tr>\n",
       "      <th>1</th>\n",
       "      <td>15002-2020-08-15T12:54:00+02:00</td>\n",
       "      <td>2020-08-15</td>\n",
       "      <td>Viken</td>\n",
       "      <td>Vest</td>\n",
       "      <td>Bærum</td>\n",
       "      <td>Nadderud stadion</td>\n",
       "      <td>Bekkestua bussterminal (Plattform C)</td>\n",
       "      <td>Lokal</td>\n",
       "      <td>Viken</td>\n",
       "      <td>150</td>\n",
       "      <td>...</td>\n",
       "      <td>0 days 13:12:00</td>\n",
       "      <td>112</td>\n",
       "      <td>5</td>\n",
       "      <td>false</td>\n",
       "      <td>107</td>\n",
       "      <td>0 days 00:00:26</td>\n",
       "      <td>0 days 00:00:20</td>\n",
       "      <td>20.0</td>\n",
       "      <td>26.0</td>\n",
       "      <td>Saturday</td>\n",
       "    </tr>\n",
       "    <tr>\n",
       "      <th>2</th>\n",
       "      <td>15004-2020-08-03T09:54:00+02:00</td>\n",
       "      <td>2020-03-08</td>\n",
       "      <td>Viken</td>\n",
       "      <td>Vest</td>\n",
       "      <td>Bærum</td>\n",
       "      <td>Ringstabekkveien</td>\n",
       "      <td>Skallum</td>\n",
       "      <td>Lokal</td>\n",
       "      <td>Viken</td>\n",
       "      <td>150</td>\n",
       "      <td>...</td>\n",
       "      <td>0 days 10:19:00</td>\n",
       "      <td>112</td>\n",
       "      <td>6</td>\n",
       "      <td>false</td>\n",
       "      <td>106</td>\n",
       "      <td>0 days 00:00:21</td>\n",
       "      <td>0 days 00:00:04</td>\n",
       "      <td>4.0</td>\n",
       "      <td>21.0</td>\n",
       "      <td>Sunday</td>\n",
       "    </tr>\n",
       "    <tr>\n",
       "      <th>3</th>\n",
       "      <td>15003-2020-07-27T13:00:00+02:00</td>\n",
       "      <td>2020-07-27</td>\n",
       "      <td>Viken</td>\n",
       "      <td>Vest</td>\n",
       "      <td>Bærum</td>\n",
       "      <td>Gruvemyra</td>\n",
       "      <td>Gullhaug</td>\n",
       "      <td>Lokal</td>\n",
       "      <td>Viken</td>\n",
       "      <td>150</td>\n",
       "      <td>...</td>\n",
       "      <td>0 days 13:51:00</td>\n",
       "      <td>112</td>\n",
       "      <td>10</td>\n",
       "      <td>false</td>\n",
       "      <td>102</td>\n",
       "      <td>0 days 00:01:26</td>\n",
       "      <td>0 days 00:01:04</td>\n",
       "      <td>64.0</td>\n",
       "      <td>86.0</td>\n",
       "      <td>Monday</td>\n",
       "    </tr>\n",
       "    <tr>\n",
       "      <th>4</th>\n",
       "      <td>15002-2020-08-27T07:15:00+02:00</td>\n",
       "      <td>2020-08-27</td>\n",
       "      <td>Viken</td>\n",
       "      <td>Vest</td>\n",
       "      <td>Bærum</td>\n",
       "      <td>Lysaker stasjon (Plattform A)</td>\n",
       "      <td>Tjernsmyr</td>\n",
       "      <td>Lokal</td>\n",
       "      <td>Viken</td>\n",
       "      <td>150</td>\n",
       "      <td>...</td>\n",
       "      <td>0 days 07:33:00</td>\n",
       "      <td>112</td>\n",
       "      <td>10</td>\n",
       "      <td>false</td>\n",
       "      <td>102</td>\n",
       "      <td>0 days 00:01:53</td>\n",
       "      <td>0 days 00:01:13</td>\n",
       "      <td>73.0</td>\n",
       "      <td>113.0</td>\n",
       "      <td>Thursday</td>\n",
       "    </tr>\n",
       "  </tbody>\n",
       "</table>\n",
       "<p>5 rows × 24 columns</p>\n",
       "</div>"
      ],
      "text/plain": [
       "                             TurId       Dato  Fylke Område Kommune  \\\n",
       "0  15006-2020-08-10T10:24:00+02:00 2020-10-08  Viken   Vest   Bærum   \n",
       "1  15002-2020-08-15T12:54:00+02:00 2020-08-15  Viken   Vest   Bærum   \n",
       "2  15004-2020-08-03T09:54:00+02:00 2020-03-08  Viken   Vest   Bærum   \n",
       "3  15003-2020-07-27T13:00:00+02:00 2020-07-27  Viken   Vest   Bærum   \n",
       "4  15002-2020-08-27T07:15:00+02:00 2020-08-27  Viken   Vest   Bærum   \n",
       "\n",
       "                  Holdeplass_Fra                        Holdeplass_Til  \\\n",
       "0                    Nordliveien                             Tjernsmyr   \n",
       "1               Nadderud stadion  Bekkestua bussterminal (Plattform C)   \n",
       "2               Ringstabekkveien                               Skallum   \n",
       "3                      Gruvemyra                              Gullhaug   \n",
       "4  Lysaker stasjon (Plattform A)                             Tjernsmyr   \n",
       "\n",
       "  Linjetype Linjefylke Linjenavn  ...  \\\n",
       "0     Lokal      Viken       150  ...   \n",
       "1     Lokal      Viken       150  ...   \n",
       "2     Lokal      Viken       150  ...   \n",
       "3     Lokal      Viken       150  ...   \n",
       "4     Lokal      Viken       150  ...   \n",
       "\n",
       "   Tidspunkt_Planlagt_Avgang_Holdeplass_Fra Kjøretøy_Kapasitet  \\\n",
       "0                           0 days 10:53:00                112   \n",
       "1                           0 days 13:12:00                112   \n",
       "2                           0 days 10:19:00                112   \n",
       "3                           0 days 13:51:00                112   \n",
       "4                           0 days 07:33:00                112   \n",
       "\n",
       "  Passasjerer_Ombord Passasjerer_Ombord_Censor_defekt  \\\n",
       "0                  5                            false   \n",
       "1                  5                            false   \n",
       "2                  6                            false   \n",
       "3                 10                            false   \n",
       "4                 10                            false   \n",
       "\n",
       "  Restkappasitet_Passjasjerer  Tid_Forsiket_Avgang  Tid_forsinket_Ankomst  \\\n",
       "0                         107      0 days 00:00:59        0 days 00:00:53   \n",
       "1                         107      0 days 00:00:26        0 days 00:00:20   \n",
       "2                         106      0 days 00:00:21        0 days 00:00:04   \n",
       "3                         102      0 days 00:01:26        0 days 00:01:04   \n",
       "4                         102      0 days 00:01:53        0 days 00:01:13   \n",
       "\n",
       "  Forsinke_Ankomst_sec  Forsinke_Avgang_sec    Ukedag  \n",
       "0                 53.0                 59.0  Thursday  \n",
       "1                 20.0                 26.0  Saturday  \n",
       "2                  4.0                 21.0    Sunday  \n",
       "3                 64.0                 86.0    Monday  \n",
       "4                 73.0                113.0  Thursday  \n",
       "\n",
       "[5 rows x 24 columns]"
      ]
     },
     "execution_count": 16,
     "metadata": {},
     "output_type": "execute_result"
    }
   ],
   "source": [
    "df.head()"
   ]
  },
  {
   "cell_type": "code",
   "execution_count": 17,
   "id": "b6ae8ab6",
   "metadata": {},
   "outputs": [],
   "source": [
    "#feature engineering on Forsinket_Avgang"
   ]
  },
  {
   "cell_type": "code",
   "execution_count": 18,
   "id": "b679a887",
   "metadata": {},
   "outputs": [
    {
     "data": {
      "text/plain": [
       "<AxesSubplot:>"
      ]
     },
     "execution_count": 18,
     "metadata": {},
     "output_type": "execute_result"
    },
    {
     "data": {
      "image/png": "[encoded data removed]",
      "text/plain": [
       "<Figure size 432x288 with 1 Axes>"
      ]
     },
     "metadata": {
      "needs_background": "light"
     },
     "output_type": "display_data"
    }
   ],
   "source": [
    "# kjører box plot for å til passe Forsinket_avgang før visualisering\n",
    "df[\"Forsinke_Avgang_sec\"].plot.box()"
   ]
  },
  {
   "cell_type": "code",
   "execution_count": 19,
   "id": "94b10939",
   "metadata": {},
   "outputs": [],
   "source": [
    "# Ser at den er det er outliers så minimerer det\n",
    "#med funksjonen fra Lab3 oppgave 3\n",
    "from pandas.api.types import is_numeric_dtype\n",
    "def remove_outlier(df):\n",
    "    low = .04\n",
    "    high = .95\n",
    "    quant_df = df.quantile([low, high])\n",
    "    if is_numeric_dtype(df):\n",
    "        df = df[(df > quant_df.loc[low]) & (df < quant_df.loc[high])]\n",
    "    return df"
   ]
  },
  {
   "cell_type": "code",
   "execution_count": 20,
   "id": "9bab6c91",
   "metadata": {},
   "outputs": [],
   "source": [
    "df[\"Forsinke_Avgang_sec\"] = remove_outlier(df[\"Forsinke_Avgang_sec\"])"
   ]
  },
  {
   "cell_type": "code",
   "execution_count": 21,
   "id": "9e97f2da",
   "metadata": {},
   "outputs": [
    {
     "data": {
      "text/plain": [
       "<AxesSubplot:>"
      ]
     },
     "execution_count": 21,
     "metadata": {},
     "output_type": "execute_result"
    },
    {
     "data": {
      "image/png": "[encoded data removed]",
      "text/plain": [
       "<Figure size 432x288 with 1 Axes>"
      ]
     },
     "metadata": {
      "needs_background": "light"
     },
     "output_type": "display_data"
    }
   ],
   "source": [
    "#Kjører så et nytt boxplot for å se om det er blitt bedre\n",
    "#tydlig forbedring\n",
    "df[\"Forsinke_Avgang_sec\"].plot.box()"
   ]
  },
  {
   "cell_type": "code",
   "execution_count": 22,
   "id": "9a009075",
   "metadata": {},
   "outputs": [],
   "source": [
    "#feature engineering on Forsinket_Ankomst"
   ]
  },
  {
   "cell_type": "code",
   "execution_count": 23,
   "id": "51129f2b",
   "metadata": {},
   "outputs": [
    {
     "data": {
      "text/plain": [
       "<AxesSubplot:>"
      ]
     },
     "execution_count": 23,
     "metadata": {},
     "output_type": "execute_result"
    },
    {
     "data": {
      "image/png": "[encoded data removed]",
      "text/plain": [
       "<Figure size 432x288 with 1 Axes>"
      ]
     },
     "metadata": {
      "needs_background": "light"
     },
     "output_type": "display_data"
    }
   ],
   "source": [
    "# som med forsinket_Avgang over trengs det og fjerne outlier\n",
    "df[\"Forsinke_Ankomst_sec\"].plot.box()"
   ]
  },
  {
   "cell_type": "code",
   "execution_count": 24,
   "id": "8245b907",
   "metadata": {},
   "outputs": [],
   "source": [
    "#kaller på funksjonen med for lopen som minnimerer outlier\n",
    "df[\"Forsinke_Ankomst_sec\"] = remove_outlier(df[\"Forsinke_Ankomst_sec\"])\n"
   ]
  },
  {
   "cell_type": "code",
   "execution_count": 25,
   "id": "ab3b209a",
   "metadata": {},
   "outputs": [
    {
     "data": {
      "text/plain": [
       "<AxesSubplot:>"
      ]
     },
     "execution_count": 25,
     "metadata": {},
     "output_type": "execute_result"
    },
    {
     "data": {
      "image/png": "[encoded data removed]",
      "text/plain": [
       "<Figure size 432x288 with 1 Axes>"
      ]
     },
     "metadata": {
      "needs_background": "light"
     },
     "output_type": "display_data"
    }
   ],
   "source": [
    "#tydelig forbedring\n",
    "df[\"Forsinke_Ankomst_sec\"].plot.box()"
   ]
  },
  {
   "cell_type": "code",
   "execution_count": 26,
   "id": "a5e2d161",
   "metadata": {},
   "outputs": [],
   "source": [
    "#feature engineering on Restkappasitet_Passjasjerer"
   ]
  },
  {
   "cell_type": "code",
   "execution_count": 27,
   "id": "50cd6f38",
   "metadata": {},
   "outputs": [
    {
     "data": {
      "text/plain": [
       "<AxesSubplot:>"
      ]
     },
     "execution_count": 27,
     "metadata": {},
     "output_type": "execute_result"
    },
    {
     "data": {
      "image/png": "[encoded data removed]",
      "text/plain": [
       "<Figure size 432x288 with 1 Axes>"
      ]
     },
     "metadata": {
      "needs_background": "light"
     },
     "output_type": "display_data"
    }
   ],
   "source": [
    "df[\"Restkappasitet_Passjasjerer\"].plot.box()"
   ]
  },
  {
   "cell_type": "code",
   "execution_count": 28,
   "id": "57de4e49",
   "metadata": {},
   "outputs": [
    {
     "data": {
      "text/plain": [
       "<AxesSubplot:xlabel='Linjetype', ylabel='Restkappasitet_Passjasjerer'>"
      ]
     },
     "execution_count": 28,
     "metadata": {},
     "output_type": "execute_result"
    },
    {
     "data": {
      "image/png": "[encoded data removed]",
      "text/plain": [
       "<Figure size 432x288 with 1 Axes>"
      ]
     },
     "metadata": {
      "needs_background": "light"
     },
     "output_type": "display_data"
    }
   ],
   "source": [
    "#Kjører et scatter plot for å få oversikt\n",
    "# Set att det kun er to Turer på Linjetype Natt som har rest kappasitet hvis de tas med så blir det missvisning i et barplot\n",
    "# dette er å regnes som outlier med defenisjone som er satt i funksjonen som fjerner ott lier\n",
    "sns.scatterplot(x=df['Linjetype'], y=df['Restkappasitet_Passjasjerer'])"
   ]
  },
  {
   "cell_type": "code",
   "execution_count": 29,
   "id": "a0d1c8f4",
   "metadata": {},
   "outputs": [],
   "source": [
    "# Kaller funksjone som fjerner outlier for Restkappasitet_passjasjerer\n",
    "df[\"Restkappasitet_Passjasjerer\"] = remove_outlier(df[\"Restkappasitet_Passjasjerer\"])"
   ]
  },
  {
   "cell_type": "code",
   "execution_count": 32,
   "id": "6f9964ab",
   "metadata": {},
   "outputs": [
    {
     "data": {
      "text/plain": [
       "<AxesSubplot:>"
      ]
     },
     "execution_count": 32,
     "metadata": {},
     "output_type": "execute_result"
    },
    {
     "data": {
      "image/png": "[encoded data removed]",
      "text/plain": [
       "<Figure size 432x288 with 1 Axes>"
      ]
     },
     "metadata": {
      "needs_background": "light"
     },
     "output_type": "display_data"
    }
   ],
   "source": [
    "#Ser en forbedring ved box plotet\n",
    "df[\"Restkappasitet_Passjasjerer\"].plot.box()"
   ]
  },
  {
   "cell_type": "code",
   "execution_count": 33,
   "id": "fe522e21",
   "metadata": {},
   "outputs": [
    {
     "data": {
      "text/plain": [
       "<AxesSubplot:xlabel='Linjetype', ylabel='Restkappasitet_Passjasjerer'>"
      ]
     },
     "execution_count": 33,
     "metadata": {},
     "output_type": "execute_result"
    },
    {
     "data": {
      "image/png": "[encoded data removed]",
      "text/plain": [
       "<Figure size 432x288 with 1 Axes>"
      ]
     },
     "metadata": {
      "needs_background": "light"
     },
     "output_type": "display_data"
    }
   ],
   "source": [
    "#Kjører et Scater plot og bekrefter at Natt er fjernet fra plotet.\n",
    "sns.scatterplot(x=df['Linjetype'], y=df['Restkappasitet_Passjasjerer'])"
   ]
  },
  {
   "cell_type": "code",
   "execution_count": 34,
   "id": "da00ba1d",
   "metadata": {},
   "outputs": [],
   "source": [
    "#feature engineering on Tur_Whit_faulti_Passasjer_sensor,\n",
    "# INgen featre enginering other than macing the column whit false or true values earlier added."
   ]
  },
  {
   "cell_type": "code",
   "execution_count": 35,
   "id": "938937f4",
   "metadata": {},
   "outputs": [],
   "source": [
    "#feature engineering on Ukedag for visulaiseringen med uke dag er det ikke nødvendig med mye feauter enginering on Ukedag,\n",
    "# men for pasasjerer om bord som er y verdien brukt til visualiseringern er det justert for outliers."
   ]
  },
  {
   "cell_type": "code",
   "execution_count": 36,
   "id": "f0e48e17",
   "metadata": {},
   "outputs": [
    {
     "data": {
      "text/plain": [
       "<AxesSubplot:>"
      ]
     },
     "execution_count": 36,
     "metadata": {},
     "output_type": "execute_result"
    },
    {
     "data": {
      "image/png": "[encoded data removed]",
      "text/plain": [
       "<Figure size 432x288 with 1 Axes>"
      ]
     },
     "metadata": {
      "needs_background": "light"
     },
     "output_type": "display_data"
    }
   ],
   "source": [
    "df[\"Passasjerer_Ombord\"].plot.box()"
   ]
  },
  {
   "cell_type": "code",
   "execution_count": 37,
   "id": "afe0f6e4",
   "metadata": {},
   "outputs": [],
   "source": [
    "df[\"Passasjerer_Ombord\"] = remove_outlier(df[\"Passasjerer_Ombord\"])"
   ]
  },
  {
   "cell_type": "code",
   "execution_count": 38,
   "id": "d842e6e7",
   "metadata": {},
   "outputs": [
    {
     "data": {
      "text/plain": [
       "<AxesSubplot:>"
      ]
     },
     "execution_count": 38,
     "metadata": {},
     "output_type": "execute_result"
    },
    {
     "data": {
      "image/png": "[encoded data removed]",
      "text/plain": [
       "<Figure size 432x288 with 1 Axes>"
      ]
     },
     "metadata": {
      "needs_background": "light"
     },
     "output_type": "display_data"
    }
   ],
   "source": [
    "df[\"Passasjerer_Ombord\"].plot.box()"
   ]
  },
  {
   "cell_type": "code",
   "execution_count": 39,
   "id": "d42dd162",
   "metadata": {},
   "outputs": [],
   "source": [
    "#1.3 Visualize each feature\n"
   ]
  },
  {
   "cell_type": "code",
   "execution_count": null,
   "id": "422c33ba",
   "metadata": {},
   "outputs": [],
   "source": [
    "#Visualize Tid_Forsiket_Avgang"
   ]
  },
  {
   "cell_type": "code",
   "execution_count": 40,
   "id": "79402770",
   "metadata": {},
   "outputs": [
    {
     "data": {
      "text/plain": [
       "<AxesSubplot:xlabel='Linjetype', ylabel='Forsinke_Avgang_sec'>"
      ]
     },
     "execution_count": 40,
     "metadata": {},
     "output_type": "execute_result"
    },
    {
     "data": {
      "image/png": "[encoded data removed]",
      "text/plain": [
       "<Figure size 720x504 with 1 Axes>"
      ]
     },
     "metadata": {
      "needs_background": "light"
     },
     "output_type": "display_data"
    }
   ],
   "source": [
    "#plotet under viser hvilke linjetype det er mest forsinket avgang for og hvor mange secunder det er forsinket.\n",
    "ax, fig = plt.subplots(figsize=[10,7])\n",
    "sns.scatterplot(x=df['Linjetype'], y=df['Forsinke_Avgang_sec']) \n"
   ]
  },
  {
   "cell_type": "code",
   "execution_count": 41,
   "id": "d728b7d5",
   "metadata": {},
   "outputs": [],
   "source": [
    "#Visualize Tid_forsinket_Ankomst"
   ]
  },
  {
   "cell_type": "code",
   "execution_count": 42,
   "id": "c80f3f05",
   "metadata": {},
   "outputs": [
    {
     "data": {
      "text/plain": [
       "<AxesSubplot:xlabel='Linjetype', ylabel='Forsinke_Ankomst_sec'>"
      ]
     },
     "execution_count": 42,
     "metadata": {},
     "output_type": "execute_result"
    },
    {
     "data": {
      "image/png": "[encoded data removed]",
      "text/plain": [
       "<Figure size 720x504 with 1 Axes>"
      ]
     },
     "metadata": {
      "needs_background": "light"
     },
     "output_type": "display_data"
    }
   ],
   "source": [
    "#plot som viser hvilke Linjetype type oftest kommer forsinket til hodeplass i antal sekkunder.\n",
    "# Lokal har flest forsinkelser, men den er det også flere Turer av, \n",
    "ax, fig = plt.subplots(figsize=[10,7])\n",
    "sns.scatterplot(x=df['Linjetype'], y=df['Forsinke_Ankomst_sec'])"
   ]
  },
  {
   "cell_type": "code",
   "execution_count": 43,
   "id": "dfb75e81",
   "metadata": {},
   "outputs": [],
   "source": [
    "#Visualize Restkappasitet_Passjasjerer"
   ]
  },
  {
   "cell_type": "code",
   "execution_count": 44,
   "id": "43fdc72e",
   "metadata": {},
   "outputs": [
    {
     "data": {
      "text/plain": [
       "<AxesSubplot:xlabel='Linjetype', ylabel='Restkappasitet_Passjasjerer'>"
      ]
     },
     "execution_count": 44,
     "metadata": {},
     "output_type": "execute_result"
    },
    {
     "data": {
      "image/png": "[encoded data removed]",
      "text/plain": [
       "<Figure size 720x504 with 1 Axes>"
      ]
     },
     "metadata": {
      "needs_background": "light"
     },
     "output_type": "display_data"
    }
   ],
   "source": [
    "# visualisering av Restkapasitet på bussene opp i mot Linjetype.\n",
    "#Natt er ikke med i barplotet forde det kun var få turer.\n",
    "# Det ville blit miss visende nå natt var med som en søyle. derfor ble det fjernet når det ble justert for outliers.\n",
    "\n",
    "ax, fig = plt.subplots(figsize=[10,7])\n",
    "sns.barplot(x=df['Linjetype'], y=df['Restkappasitet_Passjasjerer'])"
   ]
  },
  {
   "cell_type": "code",
   "execution_count": 45,
   "id": "e2b47c7a",
   "metadata": {},
   "outputs": [],
   "source": [
    "#Visualize Tur_Whit_faulti_Passasjer_sensor"
   ]
  },
  {
   "cell_type": "code",
   "execution_count": 46,
   "id": "726f22c9",
   "metadata": {},
   "outputs": [
    {
     "data": {
      "text/plain": [
       "<AxesSubplot:xlabel='Passasjerer_Ombord_Censor_defekt', ylabel='Kjøretøy_Kapasitet'>"
      ]
     },
     "execution_count": 46,
     "metadata": {},
     "output_type": "execute_result"
    },
    {
     "data": {
      "image/png": "[encoded data removed]",
      "text/plain": [
       "<Figure size 720x504 with 1 Axes>"
      ]
     },
     "metadata": {
      "needs_background": "light"
     },
     "output_type": "display_data"
    }
   ],
   "source": [
    "#Kjøretøy_Kapasitet\n",
    "# feil på pasajer sensor mot Kjøretøy_kapasitet. \n",
    "#plotet viser at kjøretøyets kapasitet ikke har korolasjon til sensor_defekt\n",
    "#Ville egentig sjekke mot Buss id men klarte ikke å få det ut av TurId\n",
    "ax, fig = plt.subplots(figsize=[10,7])\n",
    "sns.barplot(x='Passasjerer_Ombord_Censor_defekt', y='Kjøretøy_Kapasitet', data=df) "
   ]
  },
  {
   "cell_type": "code",
   "execution_count": 47,
   "id": "f2fb34b6",
   "metadata": {},
   "outputs": [],
   "source": [
    "#Visualize Uke_Dag,"
   ]
  },
  {
   "cell_type": "code",
   "execution_count": 48,
   "id": "c9aecd1c",
   "metadata": {},
   "outputs": [
    {
     "data": {
      "text/plain": [
       "<AxesSubplot:xlabel='Passasjerer_Ombord', ylabel='Ukedag'>"
      ]
     },
     "execution_count": 48,
     "metadata": {},
     "output_type": "execute_result"
    },
    {
     "data": {
      "image/png": "[encoded data removed]",
      "text/plain": [
       "<Figure size 720x504 with 1 Axes>"
      ]
     },
     "metadata": {
      "needs_background": "light"
     },
     "output_type": "display_data"
    }
   ],
   "source": [
    "#Graf over Uke Dag opp imot Passaajserer ombord i bussen\n",
    "ax, fig = plt.subplots(figsize=[10,7])\n",
    "sns.barplot(x=df['Passasjerer_Ombord'], y=df['Ukedag'])\n",
    "#Barplottet er korigert for outlier og da er det antatt at det her fjernert de fleste negative verdier.\n",
    "#De negative verdiene brude vært fjernet helt fra datasettet siden det antagelig skyldes feil på sensorene,\n",
    "# men det her jeg ikke funnet en god løsning på så da blir det med at outliers er fjernet."
   ]
  }
 ],
 "metadata": {
  "kernelspec": {
   "display_name": "Python 3 (ipykernel)",
   "language": "python",
   "name": "python3"
  },
  "language_info": {
   "codemirror_mode": {
    "name": "ipython",
    "version": 3
   },
   "file_extension": ".py",
   "mimetype": "text/x-python",
   "name": "python",
   "nbconvert_exporter": "python",
   "pygments_lexer": "ipython3",
   "version": "3.8.11"
  }
 },
 "nbformat": 4,
 "nbformat_minor": 5
}
