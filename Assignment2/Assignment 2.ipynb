{
 "cells": [
  {
   "cell_type": "markdown",
   "id": "18e039aa",
   "metadata": {},
   "source": [
    "# Stock market price for Tesla"
   ]
  },
  {
   "cell_type": "markdown",
   "id": "728659ac",
   "metadata": {},
   "source": [
    "1. pick one use case: Stock market price for TESLA.\n",
    "2. regression algorithem would work best fot the chosen usecase.\n",
    "3. Documenten findings: For stock price prediction on the closing price regression algorithem is sueted. Howevver if the golle had ben to predicts whather the stock price would increase or decrease the nex day classification had ben best sueted. But in this case, the goall ar to predict the closing price for one specific date. Therfor an regression algorithem is best sueted in this case.\n",
    "sorce: https://ieeexplore.ieee.org/stamp/stamp.jsptp=&arnumber=9154061&isnumber=9153968\n",
    "\n",
    "4. code below\n"
   ]
  },
  {
   "cell_type": "code",
   "execution_count": 28,
   "id": "6b080853",
   "metadata": {},
   "outputs": [],
   "source": [
    "# 1. pick one use case: Stock market price for TESLA.\n",
    "# 2. regression algorithem would work best fot the chosen usecase. bay resherching the DecissionTreregressor loks prommisning for this task\n",
    "# 3.\n",
    "#For stock price prediction on the closing price regression algorithem is sueted. If the golle is to predicts whather the closing price of  stock wil increase or decrease the nex day classification is best sueted.\n",
    "# In this case the the goall is to predict teh closing price for one specific date so therfor the regression algorithem is best sueted in this case.\n",
    "# sorce: https://ieeexplore.ieee.org/stamp/stamp.jsp?tp=&arnumber=9154061&isnumber=9153968\n",
    "# 4. code below"
   ]
  },
  {
   "cell_type": "code",
   "execution_count": 29,
   "id": "d60d1a96",
   "metadata": {},
   "outputs": [],
   "source": [
    "#%matplotlib inline\n",
    "import math\n",
    "import numpy as np\n",
    "import pandas as pd\n",
    "import matplotlib.pyplot as plt\n",
    "plt.style.use('fivethirtyeight')\n",
    "#plt.style.use('seaborn-whitegrid')\n",
    "from sklearn import metrics\n",
    "\n",
    "#from sklearn import metrics\n",
    "#from sklearn import preprocessing\n",
    "#from sklearn.metrics import mean_squared_error\n",
    "from sklearn.tree import DecisionTreeRegressor\n",
    "from sklearn.linear_model import LinearRegression\n",
    "#from sklearn.model_selection import RepeatedKFold\n",
    "#from sklearn.model_selection import cross_val_score\n",
    "from sklearn.model_selection import train_test_split\n",
    "\n",
    "#from sklearn.preprocessing import MinMaxScaler"
   ]
  },
  {
   "cell_type": "code",
   "execution_count": 30,
   "id": "dbf99c5d",
   "metadata": {},
   "outputs": [],
   "source": [
    "#read the file\n",
    "url = \"https://raw.githubusercontent.com/umaimehm/Intro_to_AI_2021/main/assignment2-machinelearning/TSLA.csv\"\n",
    "#Find the raw url from the github repo\n",
    "df = pd.read_csv(url)"
   ]
  },
  {
   "cell_type": "code",
   "execution_count": 31,
   "id": "c39da0fa",
   "metadata": {},
   "outputs": [
    {
     "data": {
      "text/html": [
       "<div>\n",
       "<style scoped>\n",
       "    .dataframe tbody tr th:only-of-type {\n",
       "        vertical-align: middle;\n",
       "    }\n",
       "\n",
       "    .dataframe tbody tr th {\n",
       "        vertical-align: top;\n",
       "    }\n",
       "\n",
       "    .dataframe thead th {\n",
       "        text-align: right;\n",
       "    }\n",
       "</style>\n",
       "<table border=\"1\" class=\"dataframe\">\n",
       "  <thead>\n",
       "    <tr style=\"text-align: right;\">\n",
       "      <th></th>\n",
       "      <th>Date</th>\n",
       "      <th>Open</th>\n",
       "      <th>High</th>\n",
       "      <th>Low</th>\n",
       "      <th>Close</th>\n",
       "      <th>Adj Close</th>\n",
       "      <th>Volume</th>\n",
       "    </tr>\n",
       "  </thead>\n",
       "  <tbody>\n",
       "    <tr>\n",
       "      <th>0</th>\n",
       "      <td>2010-06-29</td>\n",
       "      <td>3.800</td>\n",
       "      <td>5.000</td>\n",
       "      <td>3.508</td>\n",
       "      <td>4.778</td>\n",
       "      <td>4.778</td>\n",
       "      <td>93831500</td>\n",
       "    </tr>\n",
       "    <tr>\n",
       "      <th>1</th>\n",
       "      <td>2010-06-30</td>\n",
       "      <td>5.158</td>\n",
       "      <td>6.084</td>\n",
       "      <td>4.660</td>\n",
       "      <td>4.766</td>\n",
       "      <td>4.766</td>\n",
       "      <td>85935500</td>\n",
       "    </tr>\n",
       "    <tr>\n",
       "      <th>2</th>\n",
       "      <td>2010-07-01</td>\n",
       "      <td>5.000</td>\n",
       "      <td>5.184</td>\n",
       "      <td>4.054</td>\n",
       "      <td>4.392</td>\n",
       "      <td>4.392</td>\n",
       "      <td>41094000</td>\n",
       "    </tr>\n",
       "    <tr>\n",
       "      <th>3</th>\n",
       "      <td>2010-07-02</td>\n",
       "      <td>4.600</td>\n",
       "      <td>4.620</td>\n",
       "      <td>3.742</td>\n",
       "      <td>3.840</td>\n",
       "      <td>3.840</td>\n",
       "      <td>25699000</td>\n",
       "    </tr>\n",
       "    <tr>\n",
       "      <th>4</th>\n",
       "      <td>2010-07-06</td>\n",
       "      <td>4.000</td>\n",
       "      <td>4.000</td>\n",
       "      <td>3.166</td>\n",
       "      <td>3.222</td>\n",
       "      <td>3.222</td>\n",
       "      <td>34334500</td>\n",
       "    </tr>\n",
       "  </tbody>\n",
       "</table>\n",
       "</div>"
      ],
      "text/plain": [
       "         Date   Open   High    Low  Close  Adj Close    Volume\n",
       "0  2010-06-29  3.800  5.000  3.508  4.778      4.778  93831500\n",
       "1  2010-06-30  5.158  6.084  4.660  4.766      4.766  85935500\n",
       "2  2010-07-01  5.000  5.184  4.054  4.392      4.392  41094000\n",
       "3  2010-07-02  4.600  4.620  3.742  3.840      3.840  25699000\n",
       "4  2010-07-06  4.000  4.000  3.166  3.222      3.222  34334500"
      ]
     },
     "execution_count": 31,
     "metadata": {},
     "output_type": "execute_result"
    }
   ],
   "source": [
    "df.head()"
   ]
  },
  {
   "cell_type": "code",
   "execution_count": 32,
   "id": "9f844bae",
   "metadata": {},
   "outputs": [
    {
     "data": {
      "text/plain": [
       "(2845, 7)"
      ]
     },
     "execution_count": 32,
     "metadata": {},
     "output_type": "execute_result"
    }
   ],
   "source": [
    "df.shape"
   ]
  },
  {
   "cell_type": "code",
   "execution_count": 33,
   "id": "9df17665",
   "metadata": {},
   "outputs": [],
   "source": [
    "#Reindex data using a DatetimeIndex\n",
    "df.set_index(pd.DatetimeIndex(df['Date']), inplace=True)"
   ]
  },
  {
   "cell_type": "code",
   "execution_count": 34,
   "id": "bb579763",
   "metadata": {},
   "outputs": [],
   "source": [
    "import datetime as dt\n",
    "df['Date'] = pd.to_datetime(df['Date'])\n",
    "df['Date']=  df['Date'].map(dt.datetime.toordinal)"
   ]
  },
  {
   "cell_type": "code",
   "execution_count": 35,
   "id": "38be4a29",
   "metadata": {},
   "outputs": [],
   "source": [
    "# Keep only the 'Close' Value' ,'Date' and the index\n",
    "df = df[['Date','Close']]"
   ]
  },
  {
   "cell_type": "code",
   "execution_count": 36,
   "id": "f26064fb",
   "metadata": {},
   "outputs": [
    {
     "data": {
      "text/plain": [
       "Text(0, 0.5, 'close price USD ($)')"
      ]
     },
     "execution_count": 36,
     "metadata": {},
     "output_type": "execute_result"
    },
    {
     "data": {
      "image/png": "[encoded data removed]",
      "text/plain": [
       "<Figure size 1152x576 with 1 Axes>"
      ]
     },
     "metadata": {},
     "output_type": "display_data"
    }
   ],
   "source": [
    "#Visualize the close price data\n",
    "plt.figure(figsize=(16,8))\n",
    "plt.title('close price History Tesla')\n",
    "plt.plot(df['Close'])\n",
    "plt.xlabel('Date')\n",
    "plt.ylabel('close price USD ($)', fontsize=18)\n"
   ]
  },
  {
   "cell_type": "code",
   "execution_count": 37,
   "id": "5001ee01",
   "metadata": {},
   "outputs": [
    {
     "data": {
      "text/html": [
       "<div>\n",
       "<style scoped>\n",
       "    .dataframe tbody tr th:only-of-type {\n",
       "        vertical-align: middle;\n",
       "    }\n",
       "\n",
       "    .dataframe tbody tr th {\n",
       "        vertical-align: top;\n",
       "    }\n",
       "\n",
       "    .dataframe thead th {\n",
       "        text-align: right;\n",
       "    }\n",
       "</style>\n",
       "<table border=\"1\" class=\"dataframe\">\n",
       "  <thead>\n",
       "    <tr style=\"text-align: right;\">\n",
       "      <th></th>\n",
       "      <th>Date</th>\n",
       "      <th>Close</th>\n",
       "    </tr>\n",
       "    <tr>\n",
       "      <th>Date</th>\n",
       "      <th></th>\n",
       "      <th></th>\n",
       "    </tr>\n",
       "  </thead>\n",
       "  <tbody>\n",
       "    <tr>\n",
       "      <th>2010-06-29</th>\n",
       "      <td>733952</td>\n",
       "      <td>4.778</td>\n",
       "    </tr>\n",
       "    <tr>\n",
       "      <th>2010-06-30</th>\n",
       "      <td>733953</td>\n",
       "      <td>4.766</td>\n",
       "    </tr>\n",
       "    <tr>\n",
       "      <th>2010-07-01</th>\n",
       "      <td>733954</td>\n",
       "      <td>4.392</td>\n",
       "    </tr>\n",
       "    <tr>\n",
       "      <th>2010-07-02</th>\n",
       "      <td>733955</td>\n",
       "      <td>3.840</td>\n",
       "    </tr>\n",
       "    <tr>\n",
       "      <th>2010-07-06</th>\n",
       "      <td>733959</td>\n",
       "      <td>3.222</td>\n",
       "    </tr>\n",
       "  </tbody>\n",
       "</table>\n",
       "</div>"
      ],
      "text/plain": [
       "              Date  Close\n",
       "Date                     \n",
       "2010-06-29  733952  4.778\n",
       "2010-06-30  733953  4.766\n",
       "2010-07-01  733954  4.392\n",
       "2010-07-02  733955  3.840\n",
       "2010-07-06  733959  3.222"
      ]
     },
     "execution_count": 37,
     "metadata": {},
     "output_type": "execute_result"
    }
   ],
   "source": [
    "# Re-inspect data\n",
    "df.head()"
   ]
  },
  {
   "cell_type": "code",
   "execution_count": 38,
   "id": "b8494584",
   "metadata": {},
   "outputs": [],
   "source": [
    "#Create a new dataframe whit only the 'Close' column\n",
    "#data = df.filter(['Close'])\n",
    "#convert the dataset to a numpay array\n",
    "#dataset = data.values"
   ]
  },
  {
   "cell_type": "code",
   "execution_count": 39,
   "id": "ca80e550",
   "metadata": {},
   "outputs": [],
   "source": [
    "#dataset"
   ]
  },
  {
   "cell_type": "code",
   "execution_count": 40,
   "id": "ed859a20",
   "metadata": {},
   "outputs": [],
   "source": [
    "#Get the number of rows to train the model on\n",
    "#training_data_len = math.ceil( len(dataset) * .8)\n",
    "\n",
    "#training_data_len"
   ]
  },
  {
   "cell_type": "code",
   "execution_count": 41,
   "id": "ae9965f0",
   "metadata": {},
   "outputs": [],
   "source": [
    "#preppering to splitt the data sett create variable x and y who storr the vallue in 'Closse' and 'Date'\n",
    "#X = pd.DataFrame(df['Close']) #Close\n",
    "#y = pd.DataFrame(df['Date']) #Date\n",
    "\n",
    "#Now, split the set in training and testing set\n",
    "#test_size = 0.33 tell the function that 1/3 of values should be put in test arrat\n",
    "#Random state is a variable that seeds the random generator. In that way\n",
    "#you'll get the same training and testing set each run\n",
    "#X_train, X_test, y_train, y_test = train_test_split(X, y, test_size=0.33,)"
   ]
  },
  {
   "cell_type": "code",
   "execution_count": 42,
   "id": "02401707",
   "metadata": {},
   "outputs": [
    {
     "data": {
      "text/html": [
       "<div>\n",
       "<style scoped>\n",
       "    .dataframe tbody tr th:only-of-type {\n",
       "        vertical-align: middle;\n",
       "    }\n",
       "\n",
       "    .dataframe tbody tr th {\n",
       "        vertical-align: top;\n",
       "    }\n",
       "\n",
       "    .dataframe thead th {\n",
       "        text-align: right;\n",
       "    }\n",
       "</style>\n",
       "<table border=\"1\" class=\"dataframe\">\n",
       "  <thead>\n",
       "    <tr style=\"text-align: right;\">\n",
       "      <th></th>\n",
       "      <th>Date</th>\n",
       "      <th>Close</th>\n",
       "      <th>Prediction</th>\n",
       "    </tr>\n",
       "    <tr>\n",
       "      <th>Date</th>\n",
       "      <th></th>\n",
       "      <th></th>\n",
       "      <th></th>\n",
       "    </tr>\n",
       "  </thead>\n",
       "  <tbody>\n",
       "    <tr>\n",
       "      <th>2021-10-11</th>\n",
       "      <td>738074</td>\n",
       "      <td>791.940002</td>\n",
       "      <td>NaN</td>\n",
       "    </tr>\n",
       "    <tr>\n",
       "      <th>2021-10-12</th>\n",
       "      <td>738075</td>\n",
       "      <td>805.719971</td>\n",
       "      <td>NaN</td>\n",
       "    </tr>\n",
       "    <tr>\n",
       "      <th>2021-10-13</th>\n",
       "      <td>738076</td>\n",
       "      <td>811.080017</td>\n",
       "      <td>NaN</td>\n",
       "    </tr>\n",
       "    <tr>\n",
       "      <th>2021-10-14</th>\n",
       "      <td>738077</td>\n",
       "      <td>818.320007</td>\n",
       "      <td>NaN</td>\n",
       "    </tr>\n",
       "  </tbody>\n",
       "</table>\n",
       "</div>"
      ],
      "text/plain": [
       "              Date       Close  Prediction\n",
       "Date                                      \n",
       "2021-10-11  738074  791.940002         NaN\n",
       "2021-10-12  738075  805.719971         NaN\n",
       "2021-10-13  738076  811.080017         NaN\n",
       "2021-10-14  738077  818.320007         NaN"
      ]
     },
     "execution_count": 42,
     "metadata": {},
     "output_type": "execute_result"
    }
   ],
   "source": [
    "# create variable to predict 'x' days into the future\n",
    "future_days = 25\n",
    "#Create a new colum (target) shiftd 'x' units/days up\n",
    "df['Prediction'] = df[['Close']].shift(-future_days)\n",
    "df.tail(4)"
   ]
  },
  {
   "cell_type": "code",
   "execution_count": 43,
   "id": "1c01178b",
   "metadata": {},
   "outputs": [
    {
     "name": "stdout",
     "output_type": "stream",
     "text": [
      "[[7.33952000e+05 4.77800000e+00]\n",
      " [7.33953000e+05 4.76600000e+00]\n",
      " [7.33954000e+05 4.39200000e+00]\n",
      " ...\n",
      " [7.38040000e+05 7.52919983e+02]\n",
      " [7.38041000e+05 7.53869995e+02]\n",
      " [7.38042000e+05 7.54859985e+02]]\n"
     ]
    },
    {
     "name": "stderr",
     "output_type": "stream",
     "text": [
      "C:\\Users\\Kim\\AppData\\Local\\Temp/ipykernel_15040/3356939589.py:2: FutureWarning: In a future version of pandas all arguments of DataFrame.drop except for the argument 'labels' will be keyword-only\n",
      "  x = np.array(df.drop(['Prediction'], 1))[:-future_days]\n"
     ]
    }
   ],
   "source": [
    "#Create the future daa seet (x) and convert it to a numpay array and reomve thel last 'X' rows/days\n",
    "x = np.array(df.drop(['Prediction'], 1))[:-future_days]\n",
    "print(x)"
   ]
  },
  {
   "cell_type": "code",
   "execution_count": 44,
   "id": "cd8612f2",
   "metadata": {},
   "outputs": [
    {
     "name": "stdout",
     "output_type": "stream",
     "text": [
      "[  4.252      4.09       3.918    ... 805.719971 811.080017 818.320007]\n"
     ]
    }
   ],
   "source": [
    "#Create taget data set (y) and convert it  to a numpay arrey and get all of the taget values exept the last 'x' rows\n",
    "y = np.array(df['Prediction'])[:-future_days]\n",
    "print(y)"
   ]
  },
  {
   "cell_type": "code",
   "execution_count": 45,
   "id": "eed7c287",
   "metadata": {},
   "outputs": [],
   "source": [
    "#Split the data into 75% training and 25% testing\n",
    "x_train, x_test, y_train, y_test = train_test_split(x, y, test_size = 0.50)"
   ]
  },
  {
   "cell_type": "markdown",
   "id": "e6453048",
   "metadata": {},
   "source": [
    "Train the algorithm for the Close price prediction"
   ]
  },
  {
   "cell_type": "code",
   "execution_count": 46,
   "id": "e73d7b4a",
   "metadata": {},
   "outputs": [],
   "source": [
    "#algorithem training /\n",
    "#Create the models\n",
    "#Create the decissin tree regresssor model\n",
    "tree = DecisionTreeRegressor().fit(x_train, y_train)"
   ]
  },
  {
   "cell_type": "code",
   "execution_count": 47,
   "id": "5f6b7ae2",
   "metadata": {},
   "outputs": [
    {
     "name": "stderr",
     "output_type": "stream",
     "text": [
      "C:\\Users\\Kim\\AppData\\Local\\Temp/ipykernel_15040/878759070.py:2: FutureWarning: In a future version of pandas all arguments of DataFrame.drop except for the argument 'labels' will be keyword-only\n",
      "  x_future = df.drop(['Prediction'], 1)[:-future_days]\n"
     ]
    },
    {
     "data": {
      "text/plain": [
       "array([[7.38007000e+05, 7.14630005e+02],\n",
       "       [7.38008000e+05, 6.99099976e+02],\n",
       "       [7.38011000e+05, 7.13760010e+02],\n",
       "       [7.38012000e+05, 7.09989990e+02],\n",
       "       [7.38013000e+05, 7.07820007e+02],\n",
       "       [7.38014000e+05, 7.22250000e+02],\n",
       "       [7.38015000e+05, 7.17169983e+02],\n",
       "       [7.38018000e+05, 6.86169983e+02],\n",
       "       [7.38019000e+05, 6.65710022e+02],\n",
       "       [7.38020000e+05, 6.88989990e+02],\n",
       "       [7.38021000e+05, 6.73469971e+02],\n",
       "       [7.38022000e+05, 6.80260010e+02],\n",
       "       [7.38025000e+05, 7.06299988e+02],\n",
       "       [7.38026000e+05, 7.08489990e+02],\n",
       "       [7.38027000e+05, 7.11200012e+02],\n",
       "       [7.38028000e+05, 7.01159973e+02],\n",
       "       [7.38029000e+05, 7.11919983e+02],\n",
       "       [7.38032000e+05, 7.30909973e+02],\n",
       "       [7.38033000e+05, 7.35719971e+02],\n",
       "       [7.38034000e+05, 7.34090027e+02],\n",
       "       [7.38035000e+05, 7.32390015e+02],\n",
       "       [7.38036000e+05, 7.33570007e+02],\n",
       "       [7.38040000e+05, 7.52919983e+02],\n",
       "       [7.38041000e+05, 7.53869995e+02],\n",
       "       [7.38042000e+05, 7.54859985e+02]])"
      ]
     },
     "execution_count": 47,
     "metadata": {},
     "output_type": "execute_result"
    }
   ],
   "source": [
    "#Get the last 'x'rows of the feature data set\n",
    "x_future = df.drop(['Prediction'], 1)[:-future_days]\n",
    "x_future = x_future.tail(future_days)\n",
    "x_future = np.array(x_future)\n",
    "x_future"
   ]
  },
  {
   "cell_type": "code",
   "execution_count": 48,
   "id": "6f3e35fb",
   "metadata": {},
   "outputs": [
    {
     "name": "stdout",
     "output_type": "stream",
     "text": [
      "[744.48999  753.869995 744.48999  755.830017 753.640015 759.48999\n",
      " 744.48999  753.640015 751.940002 753.640015 751.940002 753.640015\n",
      " 775.47998  775.47998  775.47998  775.47998  775.47998  785.48999\n",
      " 785.48999  785.48999  785.48999  791.940002 805.719971 805.719971\n",
      " 805.719971]\n",
      "\n"
     ]
    }
   ],
   "source": [
    "#show the model tre prediction\n",
    "tree_prediction = tree.predict(x_future)\n",
    "print(tree_prediction)\n",
    "print()"
   ]
  },
  {
   "cell_type": "code",
   "execution_count": 52,
   "id": "ec9d8cbd",
   "metadata": {},
   "outputs": [
    {
     "ename": "ValueError",
     "evalue": "Found input variables with inconsistent numbers of samples: [1410, 25]",
     "output_type": "error",
     "traceback": [
      "\u001b[1;31m---------------------------------------------------------------------------\u001b[0m",
      "\u001b[1;31mValueError\u001b[0m                                Traceback (most recent call last)",
      "\u001b[1;32m~\\AppData\\Local\\Temp/ipykernel_15040/780004594.py\u001b[0m in \u001b[0;36m<module>\u001b[1;34m\u001b[0m\n\u001b[0;32m      1\u001b[0m \u001b[1;32mfrom\u001b[0m \u001b[0msklearn\u001b[0m \u001b[1;32mimport\u001b[0m \u001b[0mmetrics\u001b[0m\u001b[1;33m\u001b[0m\u001b[1;33m\u001b[0m\u001b[0m\n\u001b[1;32m----> 2\u001b[1;33m \u001b[0mprint\u001b[0m\u001b[1;33m(\u001b[0m \u001b[1;34m\"MSE = \"\u001b[0m\u001b[1;33m+\u001b[0m\u001b[0mstr\u001b[0m\u001b[1;33m(\u001b[0m\u001b[0mmetrics\u001b[0m\u001b[1;33m.\u001b[0m\u001b[0mmean_squared_error\u001b[0m\u001b[1;33m(\u001b[0m\u001b[0my_train\u001b[0m\u001b[1;33m,\u001b[0m \u001b[0mx_future\u001b[0m\u001b[1;33m)\u001b[0m\u001b[1;33m)\u001b[0m\u001b[1;33m)\u001b[0m \u001b[1;31m#Calculate MSE\u001b[0m\u001b[1;33m\u001b[0m\u001b[1;33m\u001b[0m\u001b[0m\n\u001b[0m",
      "\u001b[1;32m~\\Programmering\\anaconda3\\envs\\dave3625\\lib\\site-packages\\sklearn\\utils\\validation.py\u001b[0m in \u001b[0;36minner_f\u001b[1;34m(*args, **kwargs)\u001b[0m\n\u001b[0;32m     61\u001b[0m             \u001b[0mextra_args\u001b[0m \u001b[1;33m=\u001b[0m \u001b[0mlen\u001b[0m\u001b[1;33m(\u001b[0m\u001b[0margs\u001b[0m\u001b[1;33m)\u001b[0m \u001b[1;33m-\u001b[0m \u001b[0mlen\u001b[0m\u001b[1;33m(\u001b[0m\u001b[0mall_args\u001b[0m\u001b[1;33m)\u001b[0m\u001b[1;33m\u001b[0m\u001b[1;33m\u001b[0m\u001b[0m\n\u001b[0;32m     62\u001b[0m             \u001b[1;32mif\u001b[0m \u001b[0mextra_args\u001b[0m \u001b[1;33m<=\u001b[0m \u001b[1;36m0\u001b[0m\u001b[1;33m:\u001b[0m\u001b[1;33m\u001b[0m\u001b[1;33m\u001b[0m\u001b[0m\n\u001b[1;32m---> 63\u001b[1;33m                 \u001b[1;32mreturn\u001b[0m \u001b[0mf\u001b[0m\u001b[1;33m(\u001b[0m\u001b[1;33m*\u001b[0m\u001b[0margs\u001b[0m\u001b[1;33m,\u001b[0m \u001b[1;33m**\u001b[0m\u001b[0mkwargs\u001b[0m\u001b[1;33m)\u001b[0m\u001b[1;33m\u001b[0m\u001b[1;33m\u001b[0m\u001b[0m\n\u001b[0m\u001b[0;32m     64\u001b[0m \u001b[1;33m\u001b[0m\u001b[0m\n\u001b[0;32m     65\u001b[0m             \u001b[1;31m# extra_args > 0\u001b[0m\u001b[1;33m\u001b[0m\u001b[1;33m\u001b[0m\u001b[1;33m\u001b[0m\u001b[0m\n",
      "\u001b[1;32m~\\Programmering\\anaconda3\\envs\\dave3625\\lib\\site-packages\\sklearn\\metrics\\_regression.py\u001b[0m in \u001b[0;36mmean_squared_error\u001b[1;34m(y_true, y_pred, sample_weight, multioutput, squared)\u001b[0m\n\u001b[0;32m    333\u001b[0m     \u001b[1;36m0.825\u001b[0m\u001b[1;33m...\u001b[0m\u001b[1;33m\u001b[0m\u001b[1;33m\u001b[0m\u001b[0m\n\u001b[0;32m    334\u001b[0m     \"\"\"\n\u001b[1;32m--> 335\u001b[1;33m     y_type, y_true, y_pred, multioutput = _check_reg_targets(\n\u001b[0m\u001b[0;32m    336\u001b[0m         y_true, y_pred, multioutput)\n\u001b[0;32m    337\u001b[0m     \u001b[0mcheck_consistent_length\u001b[0m\u001b[1;33m(\u001b[0m\u001b[0my_true\u001b[0m\u001b[1;33m,\u001b[0m \u001b[0my_pred\u001b[0m\u001b[1;33m,\u001b[0m \u001b[0msample_weight\u001b[0m\u001b[1;33m)\u001b[0m\u001b[1;33m\u001b[0m\u001b[1;33m\u001b[0m\u001b[0m\n",
      "\u001b[1;32m~\\Programmering\\anaconda3\\envs\\dave3625\\lib\\site-packages\\sklearn\\metrics\\_regression.py\u001b[0m in \u001b[0;36m_check_reg_targets\u001b[1;34m(y_true, y_pred, multioutput, dtype)\u001b[0m\n\u001b[0;32m     86\u001b[0m         \u001b[0mthe\u001b[0m \u001b[0mdtype\u001b[0m \u001b[0margument\u001b[0m \u001b[0mpassed\u001b[0m \u001b[0mto\u001b[0m \u001b[0mcheck_array\u001b[0m\u001b[1;33m.\u001b[0m\u001b[1;33m\u001b[0m\u001b[1;33m\u001b[0m\u001b[0m\n\u001b[0;32m     87\u001b[0m     \"\"\"\n\u001b[1;32m---> 88\u001b[1;33m     \u001b[0mcheck_consistent_length\u001b[0m\u001b[1;33m(\u001b[0m\u001b[0my_true\u001b[0m\u001b[1;33m,\u001b[0m \u001b[0my_pred\u001b[0m\u001b[1;33m)\u001b[0m\u001b[1;33m\u001b[0m\u001b[1;33m\u001b[0m\u001b[0m\n\u001b[0m\u001b[0;32m     89\u001b[0m     \u001b[0my_true\u001b[0m \u001b[1;33m=\u001b[0m \u001b[0mcheck_array\u001b[0m\u001b[1;33m(\u001b[0m\u001b[0my_true\u001b[0m\u001b[1;33m,\u001b[0m \u001b[0mensure_2d\u001b[0m\u001b[1;33m=\u001b[0m\u001b[1;32mFalse\u001b[0m\u001b[1;33m,\u001b[0m \u001b[0mdtype\u001b[0m\u001b[1;33m=\u001b[0m\u001b[0mdtype\u001b[0m\u001b[1;33m)\u001b[0m\u001b[1;33m\u001b[0m\u001b[1;33m\u001b[0m\u001b[0m\n\u001b[0;32m     90\u001b[0m     \u001b[0my_pred\u001b[0m \u001b[1;33m=\u001b[0m \u001b[0mcheck_array\u001b[0m\u001b[1;33m(\u001b[0m\u001b[0my_pred\u001b[0m\u001b[1;33m,\u001b[0m \u001b[0mensure_2d\u001b[0m\u001b[1;33m=\u001b[0m\u001b[1;32mFalse\u001b[0m\u001b[1;33m,\u001b[0m \u001b[0mdtype\u001b[0m\u001b[1;33m=\u001b[0m\u001b[0mdtype\u001b[0m\u001b[1;33m)\u001b[0m\u001b[1;33m\u001b[0m\u001b[1;33m\u001b[0m\u001b[0m\n",
      "\u001b[1;32m~\\Programmering\\anaconda3\\envs\\dave3625\\lib\\site-packages\\sklearn\\utils\\validation.py\u001b[0m in \u001b[0;36mcheck_consistent_length\u001b[1;34m(*arrays)\u001b[0m\n\u001b[0;32m    317\u001b[0m     \u001b[0muniques\u001b[0m \u001b[1;33m=\u001b[0m \u001b[0mnp\u001b[0m\u001b[1;33m.\u001b[0m\u001b[0munique\u001b[0m\u001b[1;33m(\u001b[0m\u001b[0mlengths\u001b[0m\u001b[1;33m)\u001b[0m\u001b[1;33m\u001b[0m\u001b[1;33m\u001b[0m\u001b[0m\n\u001b[0;32m    318\u001b[0m     \u001b[1;32mif\u001b[0m \u001b[0mlen\u001b[0m\u001b[1;33m(\u001b[0m\u001b[0muniques\u001b[0m\u001b[1;33m)\u001b[0m \u001b[1;33m>\u001b[0m \u001b[1;36m1\u001b[0m\u001b[1;33m:\u001b[0m\u001b[1;33m\u001b[0m\u001b[1;33m\u001b[0m\u001b[0m\n\u001b[1;32m--> 319\u001b[1;33m         raise ValueError(\"Found input variables with inconsistent numbers of\"\n\u001b[0m\u001b[0;32m    320\u001b[0m                          \" samples: %r\" % [int(l) for l in lengths])\n\u001b[0;32m    321\u001b[0m \u001b[1;33m\u001b[0m\u001b[0m\n",
      "\u001b[1;31mValueError\u001b[0m: Found input variables with inconsistent numbers of samples: [1410, 25]"
     ]
    }
   ],
   "source": [
    "from sklearn import metrics\n",
    "print( \"MSE = \"+str(metrics.mean_squared_error(y_train, x_future))) #Calculate MSE"
   ]
  },
  {
   "cell_type": "code",
   "execution_count": null,
   "id": "038b7219",
   "metadata": {},
   "outputs": [],
   "source": [
    "#Visualiz the data\n",
    "predictions = tree_prediction\n",
    "valid = df[x.shape[0]:]\n",
    "valid['Prediction'] = predictions\n",
    "plt.figure(figsize=(16,8))\n",
    "plt.title('Model')\n",
    "plt.xlabel('Days')\n",
    "plt.ylabel('close price USD ($)')\n",
    "plt.plot(df['Close'])\n",
    "plt.plot(valid[['Close', 'Prediction']])\n",
    "plt.legend(['Orig', 'Val', 'Pred'])\n",
    "plt.show()"
   ]
  },
  {
   "cell_type": "code",
   "execution_count": null,
   "id": "0ea55cca",
   "metadata": {},
   "outputs": [],
   "source": []
  }
 ],
 "metadata": {
  "kernelspec": {
   "display_name": "Python 3 (ipykernel)",
   "language": "python",
   "name": "python3"
  },
  "language_info": {
   "codemirror_mode": {
    "name": "ipython",
    "version": 3
   },
   "file_extension": ".py",
   "mimetype": "text/x-python",
   "name": "python",
   "nbconvert_exporter": "python",
   "pygments_lexer": "ipython3",
   "version": "3.8.11"
  }
 },
 "nbformat": 4,
 "nbformat_minor": 5
}
