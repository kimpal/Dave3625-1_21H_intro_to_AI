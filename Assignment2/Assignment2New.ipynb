{
 "cells": [
  {
   "cell_type": "markdown",
   "id": "787346f1",
   "metadata": {},
   "source": [
    "# Close price prediction on TESLA stocks.\n",
    "\n",
    "## Documentation for the research don to chos algorithem.\n",
    "https://github.com/kimpal/Dave3625-1_21H_intro_to_AI/blob/a1f7e3b184f2d96a822f2b869ea993ce75948ee6/Assignment2/README.md\n",
    "\n",
    "### stepps preformed To Train the algorithem and get a model:"
   ]
  },
  {
   "cell_type": "markdown",
   "id": "9007c31c",
   "metadata": {},
   "source": [
    "the necesery imports"
   ]
  },
  {
   "cell_type": "code",
   "execution_count": 1,
   "id": "f135b91c",
   "metadata": {},
   "outputs": [],
   "source": [
    "#imports\n",
    "%matplotlib inline\n",
    "\n",
    "import numpy as np\n",
    "import pandas as pd\n",
    "import matplotlib.pyplot as plt\n",
    "#plt.style.use('fivethirtyeight')\n",
    "\n",
    "from sklearn import metrics\n",
    "from sklearn import preprocessing\n",
    "from sklearn.tree import DecisionTreeRegressor\n",
    "from sklearn.model_selection import train_test_split"
   ]
  },
  {
   "cell_type": "markdown",
   "id": "71c3c5ec",
   "metadata": {},
   "source": [
    "1. get the data set. them gett info from the data set"
   ]
  },
  {
   "cell_type": "code",
   "execution_count": 2,
   "id": "c1a0a687",
   "metadata": {},
   "outputs": [],
   "source": [
    "#read the file\n",
    "url = \"https://raw.githubusercontent.com/umaimehm/Intro_to_AI_2021/main/assignment2-machinelearning/TSLA.csv\"\n",
    "df = pd.read_csv(url)"
   ]
  },
  {
   "cell_type": "code",
   "execution_count": 3,
   "id": "7176a556",
   "metadata": {
    "scrolled": true
   },
   "outputs": [
    {
     "data": {
      "text/html": [
       "<div>\n",
       "<style scoped>\n",
       "    .dataframe tbody tr th:only-of-type {\n",
       "        vertical-align: middle;\n",
       "    }\n",
       "\n",
       "    .dataframe tbody tr th {\n",
       "        vertical-align: top;\n",
       "    }\n",
       "\n",
       "    .dataframe thead th {\n",
       "        text-align: right;\n",
       "    }\n",
       "</style>\n",
       "<table border=\"1\" class=\"dataframe\">\n",
       "  <thead>\n",
       "    <tr style=\"text-align: right;\">\n",
       "      <th></th>\n",
       "      <th>Date</th>\n",
       "      <th>Open</th>\n",
       "      <th>High</th>\n",
       "      <th>Low</th>\n",
       "      <th>Close</th>\n",
       "      <th>Adj Close</th>\n",
       "      <th>Volume</th>\n",
       "    </tr>\n",
       "  </thead>\n",
       "  <tbody>\n",
       "    <tr>\n",
       "      <th>0</th>\n",
       "      <td>2010-06-29</td>\n",
       "      <td>3.800</td>\n",
       "      <td>5.000</td>\n",
       "      <td>3.508</td>\n",
       "      <td>4.778</td>\n",
       "      <td>4.778</td>\n",
       "      <td>93831500</td>\n",
       "    </tr>\n",
       "    <tr>\n",
       "      <th>1</th>\n",
       "      <td>2010-06-30</td>\n",
       "      <td>5.158</td>\n",
       "      <td>6.084</td>\n",
       "      <td>4.660</td>\n",
       "      <td>4.766</td>\n",
       "      <td>4.766</td>\n",
       "      <td>85935500</td>\n",
       "    </tr>\n",
       "    <tr>\n",
       "      <th>2</th>\n",
       "      <td>2010-07-01</td>\n",
       "      <td>5.000</td>\n",
       "      <td>5.184</td>\n",
       "      <td>4.054</td>\n",
       "      <td>4.392</td>\n",
       "      <td>4.392</td>\n",
       "      <td>41094000</td>\n",
       "    </tr>\n",
       "    <tr>\n",
       "      <th>3</th>\n",
       "      <td>2010-07-02</td>\n",
       "      <td>4.600</td>\n",
       "      <td>4.620</td>\n",
       "      <td>3.742</td>\n",
       "      <td>3.840</td>\n",
       "      <td>3.840</td>\n",
       "      <td>25699000</td>\n",
       "    </tr>\n",
       "    <tr>\n",
       "      <th>4</th>\n",
       "      <td>2010-07-06</td>\n",
       "      <td>4.000</td>\n",
       "      <td>4.000</td>\n",
       "      <td>3.166</td>\n",
       "      <td>3.222</td>\n",
       "      <td>3.222</td>\n",
       "      <td>34334500</td>\n",
       "    </tr>\n",
       "  </tbody>\n",
       "</table>\n",
       "</div>"
      ],
      "text/plain": [
       "         Date   Open   High    Low  Close  Adj Close    Volume\n",
       "0  2010-06-29  3.800  5.000  3.508  4.778      4.778  93831500\n",
       "1  2010-06-30  5.158  6.084  4.660  4.766      4.766  85935500\n",
       "2  2010-07-01  5.000  5.184  4.054  4.392      4.392  41094000\n",
       "3  2010-07-02  4.600  4.620  3.742  3.840      3.840  25699000\n",
       "4  2010-07-06  4.000  4.000  3.166  3.222      3.222  34334500"
      ]
     },
     "execution_count": 3,
     "metadata": {},
     "output_type": "execute_result"
    }
   ],
   "source": [
    "df.head()"
   ]
  },
  {
   "cell_type": "code",
   "execution_count": 4,
   "id": "ddd9d5b9",
   "metadata": {},
   "outputs": [
    {
     "data": {
      "text/plain": [
       "(2845, 7)"
      ]
     },
     "execution_count": 4,
     "metadata": {},
     "output_type": "execute_result"
    }
   ],
   "source": [
    "df.shape"
   ]
  },
  {
   "cell_type": "code",
   "execution_count": 5,
   "id": "482461f2",
   "metadata": {},
   "outputs": [
    {
     "name": "stdout",
     "output_type": "stream",
     "text": [
      "<class 'pandas.core.frame.DataFrame'>\n",
      "RangeIndex: 2845 entries, 0 to 2844\n",
      "Data columns (total 7 columns):\n",
      " #   Column     Non-Null Count  Dtype  \n",
      "---  ------     --------------  -----  \n",
      " 0   Date       2845 non-null   object \n",
      " 1   Open       2845 non-null   float64\n",
      " 2   High       2845 non-null   float64\n",
      " 3   Low        2845 non-null   float64\n",
      " 4   Close      2845 non-null   float64\n",
      " 5   Adj Close  2845 non-null   float64\n",
      " 6   Volume     2845 non-null   int64  \n",
      "dtypes: float64(5), int64(1), object(1)\n",
      "memory usage: 155.7+ KB\n"
     ]
    }
   ],
   "source": [
    "df.info()"
   ]
  },
  {
   "cell_type": "markdown",
   "id": "4fc413a1",
   "metadata": {},
   "source": [
    "2. do som futer enginering on the data to preper it for the algorithem"
   ]
  },
  {
   "cell_type": "code",
   "execution_count": 6,
   "id": "d5ef5950",
   "metadata": {
    "scrolled": true
   },
   "outputs": [],
   "source": [
    "#converts Date to ordinal\n",
    "import datetime as dt\n",
    "df['Date'] = pd.to_datetime(df['Date'])\n",
    "df['Date'] =  df['Date'].map(dt.datetime.toordinal)"
   ]
  },
  {
   "cell_type": "markdown",
   "id": "037ad58a",
   "metadata": {},
   "source": [
    "Remove the un nessesery data"
   ]
  },
  {
   "cell_type": "code",
   "execution_count": 7,
   "id": "e99404eb",
   "metadata": {},
   "outputs": [],
   "source": [
    "# Keep only the 'Close' Value' ,'Date' and the index\n",
    "df = df[['Date','Close']]"
   ]
  },
  {
   "cell_type": "markdown",
   "id": "2de2d2e1",
   "metadata": {},
   "source": [
    "3. chec that the cange is done"
   ]
  },
  {
   "cell_type": "code",
   "execution_count": 8,
   "id": "241fb9a5",
   "metadata": {},
   "outputs": [
    {
     "data": {
      "text/html": [
       "<div>\n",
       "<style scoped>\n",
       "    .dataframe tbody tr th:only-of-type {\n",
       "        vertical-align: middle;\n",
       "    }\n",
       "\n",
       "    .dataframe tbody tr th {\n",
       "        vertical-align: top;\n",
       "    }\n",
       "\n",
       "    .dataframe thead th {\n",
       "        text-align: right;\n",
       "    }\n",
       "</style>\n",
       "<table border=\"1\" class=\"dataframe\">\n",
       "  <thead>\n",
       "    <tr style=\"text-align: right;\">\n",
       "      <th></th>\n",
       "      <th>Date</th>\n",
       "      <th>Close</th>\n",
       "    </tr>\n",
       "  </thead>\n",
       "  <tbody>\n",
       "    <tr>\n",
       "      <th>0</th>\n",
       "      <td>733952</td>\n",
       "      <td>4.778</td>\n",
       "    </tr>\n",
       "    <tr>\n",
       "      <th>1</th>\n",
       "      <td>733953</td>\n",
       "      <td>4.766</td>\n",
       "    </tr>\n",
       "    <tr>\n",
       "      <th>2</th>\n",
       "      <td>733954</td>\n",
       "      <td>4.392</td>\n",
       "    </tr>\n",
       "    <tr>\n",
       "      <th>3</th>\n",
       "      <td>733955</td>\n",
       "      <td>3.840</td>\n",
       "    </tr>\n",
       "    <tr>\n",
       "      <th>4</th>\n",
       "      <td>733959</td>\n",
       "      <td>3.222</td>\n",
       "    </tr>\n",
       "  </tbody>\n",
       "</table>\n",
       "</div>"
      ],
      "text/plain": [
       "     Date  Close\n",
       "0  733952  4.778\n",
       "1  733953  4.766\n",
       "2  733954  4.392\n",
       "3  733955  3.840\n",
       "4  733959  3.222"
      ]
     },
     "execution_count": 8,
     "metadata": {},
     "output_type": "execute_result"
    }
   ],
   "source": [
    "df.head()"
   ]
  },
  {
   "cell_type": "code",
   "execution_count": 9,
   "id": "6b12541a",
   "metadata": {},
   "outputs": [
    {
     "name": "stdout",
     "output_type": "stream",
     "text": [
      "<class 'pandas.core.frame.DataFrame'>\n",
      "RangeIndex: 2845 entries, 0 to 2844\n",
      "Data columns (total 2 columns):\n",
      " #   Column  Non-Null Count  Dtype  \n",
      "---  ------  --------------  -----  \n",
      " 0   Date    2845 non-null   int64  \n",
      " 1   Close   2845 non-null   float64\n",
      "dtypes: float64(1), int64(1)\n",
      "memory usage: 44.6 KB\n"
     ]
    }
   ],
   "source": [
    "df.info()"
   ]
  },
  {
   "cell_type": "markdown",
   "id": "b352693c",
   "metadata": {},
   "source": [
    "  make a plot just to visualiz the data"
   ]
  },
  {
   "cell_type": "code",
   "execution_count": 10,
   "id": "ed4aad3e",
   "metadata": {
    "scrolled": false
   },
   "outputs": [
    {
     "data": {
      "text/plain": [
       "Text(0, 0.5, 'close price USD ($)')"
      ]
     },
     "execution_count": 10,
     "metadata": {},
     "output_type": "execute_result"
    },
    {
     "data": {
      "image/png": "[encoded data removed]",
      "text/plain": [
       "<Figure size 432x288 with 1 Axes>"
      ]
     },
     "metadata": {
      "needs_background": "light"
     },
     "output_type": "display_data"
    }
   ],
   "source": [
    "#Visualize the close price data\n",
    "#plt.figure(figsize=(16,8)) # uncoment to get the figur in desiered size\n",
    "plt.title('close price History Tesla')\n",
    "plt.plot(df['Close'])\n",
    "plt.xlabel('Date')\n",
    "plt.ylabel('close price USD ($)', fontsize=18)"
   ]
  },
  {
   "cell_type": "markdown",
   "id": "c91e5a9c",
   "metadata": {},
   "source": [
    "4.Splitting data into testset before training the algorithem.\n",
    "TimeSeriesSplit had ben mor suitable but for simplisecy I just used the train_test_split."
   ]
  },
  {
   "cell_type": "code",
   "execution_count": 11,
   "id": "348b172b",
   "metadata": {},
   "outputs": [],
   "source": [
    "X = pd.DataFrame(df['Date'])\n",
    "y = pd.DataFrame(df['Close'])\n",
    "# splitt the set in traing and testing set\n",
    "#test_size = 0.33 tell the function that 1/3 of valuess should beput in test arrey\n",
    "X_train, X_test, y_train, y_test = train_test_split(X, y, test_size=0.33)"
   ]
  },
  {
   "cell_type": "markdown",
   "id": "faa55100",
   "metadata": {},
   "source": [
    "5. training of the model"
   ]
  },
  {
   "cell_type": "code",
   "execution_count": 12,
   "id": "8641235e",
   "metadata": {},
   "outputs": [],
   "source": [
    "DTR = DecisionTreeRegressor()#definerer algoritmen og lagrer den i variabelen DTR"
   ]
  },
  {
   "cell_type": "code",
   "execution_count": 13,
   "id": "6244ad66",
   "metadata": {},
   "outputs": [
    {
     "data": {
      "text/plain": [
       "DecisionTreeRegressor()"
      ]
     },
     "execution_count": 13,
     "metadata": {},
     "output_type": "execute_result"
    }
   ],
   "source": [
    "#Now lets train the algorithem\n",
    "DTR.fit(X_train, y_train) #Train the model on X_train, y_train X=\"Date\", y=\"Close\""
   ]
  },
  {
   "cell_type": "markdown",
   "id": "9a7e2d97",
   "metadata": {},
   "source": [
    "5.1.test the model on the train data"
   ]
  },
  {
   "cell_type": "code",
   "execution_count": 14,
   "id": "93190ef8",
   "metadata": {},
   "outputs": [
    {
     "name": "stdout",
     "output_type": "stream",
     "text": [
      "MSE = 0.0\n"
     ]
    }
   ],
   "source": [
    "#make an prediction on the trained data and evaluate it whit MSE\n",
    "Y_pred = DTR.predict(X_train)#make prediction\n",
    "print(\"MSE = \"+str(metrics.mean_squared_error(y_train,Y_pred))) #Calculate MSE\n",
    "#godd MSE score on the train data"
   ]
  },
  {
   "cell_type": "markdown",
   "id": "c206d211",
   "metadata": {},
   "source": [
    "5.2. lets test the model for inpt X \"Date\" inpt for index 2 wher the Y walue \"Close\" price is 4.392 ($)"
   ]
  },
  {
   "cell_type": "code",
   "execution_count": 15,
   "id": "c9edd310",
   "metadata": {},
   "outputs": [
    {
     "data": {
      "text/plain": [
       "array([4.392])"
      ]
     },
     "execution_count": 15,
     "metadata": {},
     "output_type": "execute_result"
    }
   ],
   "source": [
    "#Lets manually check with a row  from the  Tesla.csv dataset (dt) \n",
    "#her we chec whit index 2 wher Date = 733954 = 2010-07-01\n",
    "DTR.predict([[733954]]) #Expected output = 4.392"
   ]
  },
  {
   "cell_type": "markdown",
   "id": "047bd515",
   "metadata": {},
   "source": [
    "6. the real test prediction on test data x_test"
   ]
  },
  {
   "cell_type": "code",
   "execution_count": 16,
   "id": "ecc12ee3",
   "metadata": {},
   "outputs": [
    {
     "name": "stdout",
     "output_type": "stream",
     "text": [
      "MSE = 64.78036347160592\n"
     ]
    }
   ],
   "source": [
    "#make prediction on test dataset\n",
    "Y_pred = DTR.predict(X_test)#make prediction on X_test\n",
    "#Calculate MSE to xhec the preformence on test data\n",
    "print(\"MSE = \"+str(metrics.mean_squared_error(y_test,Y_pred)))# evaluate preformens whit MSE"
   ]
  },
  {
   "cell_type": "markdown",
   "id": "b3b84a6e",
   "metadata": {},
   "source": [
    "The MSE score are prety good but lets chec if the model actuly could predict on som newer data in the future.\n",
    "Lets chec the model whit New Data."
   ]
  },
  {
   "cell_type": "code",
   "execution_count": 17,
   "id": "f439c2e7",
   "metadata": {},
   "outputs": [
    {
     "data": {
      "text/plain": [
       "array([818.320007])"
      ]
     },
     "execution_count": 17,
     "metadata": {},
     "output_type": "execute_result"
    }
   ],
   "source": [
    "#testing on un sen data(new data from TSL_Test.csv) Data set is in the root folder off this repo\n",
    "DTR.predict([[738085]]) \n",
    "#Expected output = 909.679993 (actual value)\n",
    "#the data is from data whit Date = 2021-10-22 = 738085"
   ]
  },
  {
   "attachments": {
    "image-4.png": {
     "image/png": "[encoded data removed]"
    }
   },
   "cell_type": "markdown",
   "id": "e3e94522",
   "metadata": {},
   "source": [
    "the prediction is not so bade baset on that the price the earlier days was aroudn the prediction\n",
    "![image-4.png](attachment:image-4.png)"
   ]
  },
  {
   "cell_type": "markdown",
   "id": "58730669",
   "metadata": {},
   "source": [
    "7. most licli that the model is ower trained so that it is not such godd at other stocs or long time prediction."
   ]
  },
  {
   "cell_type": "markdown",
   "id": "c17a7f2c",
   "metadata": {},
   "source": [
    "8. future steps would be to save the model or try to train it on diferent data sizes to se how that changes the preformece"
   ]
  },
  {
   "cell_type": "code",
   "execution_count": 18,
   "id": "3a7ef7b8",
   "metadata": {},
   "outputs": [],
   "source": [
    "\n",
    "#prepper to save the models\n",
    "#models = []"
   ]
  },
  {
   "cell_type": "code",
   "execution_count": 19,
   "id": "c3bd1ded",
   "metadata": {},
   "outputs": [],
   "source": [
    "#function to save the model\n",
    "#import pickle\n",
    "#save the model to disk\n",
    "#filename = 'model.sav'\n",
    "#pickle.dump(modells[0], oppen(filename, 'wb'))\n",
    "\n",
    "########################################\n",
    "#load the model again, and test to se if it works.\n",
    "#loade_model = pickle.load(oppen(filename, 'rb'))\n",
    "#loade_model.predict([[]]) #toordinal"
   ]
  }
 ],
 "metadata": {
  "kernelspec": {
   "display_name": "Python 3 (ipykernel)",
   "language": "python",
   "name": "python3"
  },
  "language_info": {
   "codemirror_mode": {
    "name": "ipython",
    "version": 3
   },
   "file_extension": ".py",
   "mimetype": "text/x-python",
   "name": "python",
   "nbconvert_exporter": "python",
   "pygments_lexer": "ipython3",
   "version": "3.8.11"
  }
 },
 "nbformat": 4,
 "nbformat_minor": 5
}
